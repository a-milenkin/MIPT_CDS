{
 "cells": [
  {
   "cell_type": "markdown",
   "id": "5b108a1b-8c0b-4189-96f8-ae0c863f4cd6",
   "metadata": {},
   "source": [
    "# <center> 🤼‍♀️ Разминаемся (Задание 1)\n",
    "В качестве первого задания вам предстоит достать значения средних зарплат по городам России. Сайт, на котором они хранятся: https://stepik.org/media/attachments/lesson/866758/mean_salary_by_city.html "
   ]
  },
  {
   "cell_type": "markdown",
   "id": "a1426b08-e71d-4957-a1f3-36e84511c06f",
   "metadata": {},
   "source": [
    "В качестве ответа получите .csv файл, в котором города идут в алфавитном порядке.\n",
    "\n",
    "Пример ответа:"
   ]
  },
  {
   "cell_type": "markdown",
   "id": "8739834a-4b2a-4e07-a967-e6c28edddfee",
   "metadata": {},
   "source": [
    "<center> <img src='./images/answer_example_1.png' width=\"550\" >"
   ]
  },
  {
   "cell_type": "markdown",
   "id": "c508b4b3-84be-40d3-afab-6d244722823c",
   "metadata": {},
   "source": [
    "# <center> 🌍 Парсим autonet.ru 🚗\n",
    "\n",
    "В этой задаче вам предстоит спарсить дополнительные данные по моделям машин с сайта: http://www.autonet.ru/auto/ttx и добавить их в существующий датасет. Для того чтобы было проще понимать, в каком месте вы ошибаетесь (если такое происходит), мы разбили эту задачу на несколько степов, где постепенно будем парсить данный сайт (по 1 баллу за каждый верно выполненный шаг)."
   ]
  },
  {
   "cell_type": "markdown",
   "id": "cd34b352-05fe-4178-b5bf-aebc8531e163",
   "metadata": {},
   "source": [
    "<center> <img src='./images/image_v21.png' width=\"550\" >"
   ]
  },
  {
   "cell_type": "markdown",
   "id": "51f660da-ea6d-43d6-a78b-617966bd52ea",
   "metadata": {},
   "source": [
    "## <center> 🕊 Собираем ссылки 🔗\n",
    "\n",
    "Для того чтобы начать доставать информацию о моделях, нужно вначале получить ссылки на эти модели. На первой странице сайта находится список всех марок. Вам нужно:\n",
    "\n",
    "1) Проитерироваться по всем ссылкам, которые находятся на странице.\n",
    "\n",
    "2) Отобрать среди них те, которые содержат в себе '/auto/ttx/', так как остальные ссылки не ведут на марки моделей и не интересуют нас.\n",
    "\n",
    "3) Перейти по каждой из этих ссылок (внизу скриншот того, как выглядит сайт для какой-то конкретной марки) и уже для него повторить пункты 1 и 2, но уже для моделей, а не марок."
   ]
  },
  {
   "cell_type": "markdown",
   "id": "b02f9d2a-dee6-4b15-a0a1-3aa4b402e9b6",
   "metadata": {},
   "source": [
    "<center> <img src='./images/image_v22.png' width=\"550\" >"
   ]
  },
  {
   "cell_type": "markdown",
   "id": "537ed011-4720-436a-b584-198f8312c02e",
   "metadata": {},
   "source": [
    "В итоге у вас должно найтись 1820 ссылок, которые выглядят примерно так:\n",
    "\n"
   ]
  },
  {
   "cell_type": "markdown",
   "id": "e215c98a-9918-4407-9d98-5f15a626259d",
   "metadata": {},
   "source": [
    "<center> <img src='./images/image_v23.png' width=\"550\" >"
   ]
  },
  {
   "cell_type": "markdown",
   "id": "27dabb57-26b9-4aa9-827d-780cbba021a8",
   "metadata": {},
   "source": [
    "В качестве ответа на эту задачу загрузите датасет с ними в .csv формате (при сохранении используйте index=False). Ссылки должны идти в отсортированном порядке. Пример сабмита: "
   ]
  },
  {
   "cell_type": "markdown",
   "id": "b02468f2-6e1c-4494-9d5d-7fbdde719c2b",
   "metadata": {},
   "source": [
    "<center> <img src='./images/image_v24.png' width=\"250\" >"
   ]
  },
  {
   "cell_type": "markdown",
   "id": "e027b6f4-364e-4db4-8646-4f8751c76659",
   "metadata": {},
   "source": [
    "## <center> 👉👈 Матчим ссылки с датасетом\n",
    "\n",
    "Отлично! Мы получили ссылки на все марки машин, которые есть на сайте, но, на самом деле, нам нужно спарсить только малую их часть, так как многие марки не отображены в изначальном датасете. В этом задании вам предстоит сопоставить ссылки и машины из датасета `quickstart_train.csv`. "
   ]
  },
  {
   "cell_type": "code",
   "execution_count": 9,
   "id": "715a8820-5e20-48d0-841b-07ca3234a39d",
   "metadata": {},
   "outputs": [
    {
     "data": {
      "text/html": [
       "<div>\n",
       "<style scoped>\n",
       "    .dataframe tbody tr th:only-of-type {\n",
       "        vertical-align: middle;\n",
       "    }\n",
       "\n",
       "    .dataframe tbody tr th {\n",
       "        vertical-align: top;\n",
       "    }\n",
       "\n",
       "    .dataframe thead th {\n",
       "        text-align: right;\n",
       "    }\n",
       "</style>\n",
       "<table border=\"1\" class=\"dataframe\">\n",
       "  <thead>\n",
       "    <tr style=\"text-align: right;\">\n",
       "      <th></th>\n",
       "      <th>car_id</th>\n",
       "      <th>model</th>\n",
       "      <th>car_type</th>\n",
       "      <th>fuel_type</th>\n",
       "      <th>car_rating</th>\n",
       "      <th>year_to_start</th>\n",
       "      <th>riders</th>\n",
       "      <th>year_to_work</th>\n",
       "      <th>target_reg</th>\n",
       "      <th>target_class</th>\n",
       "      <th>mean_rating</th>\n",
       "      <th>distance_sum</th>\n",
       "      <th>rating_min</th>\n",
       "      <th>speed_max</th>\n",
       "      <th>user_ride_quality_median</th>\n",
       "      <th>deviation_normal_count</th>\n",
       "      <th>user_uniq</th>\n",
       "    </tr>\n",
       "  </thead>\n",
       "  <tbody>\n",
       "    <tr>\n",
       "      <th>0</th>\n",
       "      <td>y13744087j</td>\n",
       "      <td>Kia Rio X-line</td>\n",
       "      <td>economy</td>\n",
       "      <td>petrol</td>\n",
       "      <td>3.78</td>\n",
       "      <td>2015</td>\n",
       "      <td>76163</td>\n",
       "      <td>2021</td>\n",
       "      <td>109.99</td>\n",
       "      <td>another_bug</td>\n",
       "      <td>4.737759</td>\n",
       "      <td>1.214131e+07</td>\n",
       "      <td>0.1</td>\n",
       "      <td>180.855726</td>\n",
       "      <td>0.023174</td>\n",
       "      <td>174</td>\n",
       "      <td>170</td>\n",
       "    </tr>\n",
       "    <tr>\n",
       "      <th>1</th>\n",
       "      <td>O41613818T</td>\n",
       "      <td>VW Polo VI</td>\n",
       "      <td>economy</td>\n",
       "      <td>petrol</td>\n",
       "      <td>3.90</td>\n",
       "      <td>2015</td>\n",
       "      <td>78218</td>\n",
       "      <td>2021</td>\n",
       "      <td>34.48</td>\n",
       "      <td>electro_bug</td>\n",
       "      <td>4.480517</td>\n",
       "      <td>1.803909e+07</td>\n",
       "      <td>0.0</td>\n",
       "      <td>187.862734</td>\n",
       "      <td>12.306011</td>\n",
       "      <td>174</td>\n",
       "      <td>174</td>\n",
       "    </tr>\n",
       "    <tr>\n",
       "      <th>2</th>\n",
       "      <td>d-2109686j</td>\n",
       "      <td>Renault Sandero</td>\n",
       "      <td>standart</td>\n",
       "      <td>petrol</td>\n",
       "      <td>6.30</td>\n",
       "      <td>2012</td>\n",
       "      <td>23340</td>\n",
       "      <td>2017</td>\n",
       "      <td>34.93</td>\n",
       "      <td>gear_stick</td>\n",
       "      <td>4.768391</td>\n",
       "      <td>1.588366e+07</td>\n",
       "      <td>0.1</td>\n",
       "      <td>102.382857</td>\n",
       "      <td>2.513319</td>\n",
       "      <td>174</td>\n",
       "      <td>173</td>\n",
       "    </tr>\n",
       "  </tbody>\n",
       "</table>\n",
       "</div>"
      ],
      "text/plain": [
       "       car_id            model  car_type fuel_type  car_rating  year_to_start  \\\n",
       "0  y13744087j   Kia Rio X-line   economy    petrol        3.78           2015   \n",
       "1  O41613818T       VW Polo VI   economy    petrol        3.90           2015   \n",
       "2  d-2109686j  Renault Sandero  standart    petrol        6.30           2012   \n",
       "\n",
       "   riders  year_to_work  target_reg target_class  mean_rating  distance_sum  \\\n",
       "0   76163          2021      109.99  another_bug     4.737759  1.214131e+07   \n",
       "1   78218          2021       34.48  electro_bug     4.480517  1.803909e+07   \n",
       "2   23340          2017       34.93   gear_stick     4.768391  1.588366e+07   \n",
       "\n",
       "   rating_min   speed_max  user_ride_quality_median  deviation_normal_count  \\\n",
       "0         0.1  180.855726                  0.023174                     174   \n",
       "1         0.0  187.862734                 12.306011                     174   \n",
       "2         0.1  102.382857                  2.513319                     174   \n",
       "\n",
       "   user_uniq  \n",
       "0        170  \n",
       "1        174  \n",
       "2        173  "
      ]
     },
     "execution_count": 9,
     "metadata": {},
     "output_type": "execute_result"
    }
   ],
   "source": [
    "import pandas as pd\n",
    "\n",
    "path = 'https://stepik.org/media/attachments/lesson/866758/quickstart_train.csv'\n",
    "\n",
    "df = pd.read_csv(path)\n",
    "df.head(3)"
   ]
  },
  {
   "cell_type": "markdown",
   "id": "1827e8be-7b05-4c5a-a418-c16d80e488fd",
   "metadata": {},
   "source": [
    "<center> <img src='./images/image_v31.png' width=\"250\" >"
   ]
  },
  {
   "cell_type": "markdown",
   "id": "d5f9dee8-58a5-492b-80c8-d14bcde2c71a",
   "metadata": {},
   "source": [
    "У каждой модели первые два слова отвечают за модель и марку, соответственно. Придумайте, как можно соотнести ссылки и наши записи в датафрейме и добавьте их в колонку url. Загрузите получившийся файл в систему (строки должны идти в том же порядке, что и в исходном датасете). Пример результата: "
   ]
  },
  {
   "cell_type": "markdown",
   "id": "b9f7e054-647d-40c7-b3e3-c9c879a94cf9",
   "metadata": {},
   "source": [
    "<center> <img src='./images/image_v32.png' width=\"350\" >"
   ]
  },
  {
   "cell_type": "markdown",
   "id": "ff9498ac-89b3-453e-8c9a-f19c89e68714",
   "metadata": {},
   "source": [
    "**Примечание 1:** К некоторым моделям может не существовать ссылки. Если данная марка не представлена на сайте, оставьте поле url для них пустым (заполните np.nan).\n",
    "\n",
    "**Примечание 2:** Некоторые марки могут матчиться не так просто, их придется отдельно заif'ать."
   ]
  },
  {
   "cell_type": "markdown",
   "id": "565bc4a2-aebc-4ee2-ac51-58fc07dc865b",
   "metadata": {},
   "source": [
    "## <center> ⚗️ Достаем технические характеристики\n",
    "\n",
    "Достаем информацию о машинах\n",
    "\n",
    "Отлично! Ссылки мы достали, теперь пришло время получить необходимые данные из них. Это скриншот того, как выглядит страничка сайта для конкретной модели (в нашем случае Mitsubishi Galant):"
   ]
  },
  {
   "cell_type": "markdown",
   "id": "9713f3b5-6932-4b74-b36c-1c79de7e36a9",
   "metadata": {},
   "source": [
    "<center> <img src='./images/image_v41.png' width=\"450\" >"
   ]
  },
  {
   "cell_type": "markdown",
   "id": "74e3ff59-d5ac-433f-9e2d-692781f70eb7",
   "metadata": {},
   "source": [
    "Отсюда вам необходимо для каждой подмарки (модификации) получить следующую информацию:\n",
    "\n",
    "1) `carcass` - тип кузова (в приведенном выше примере это \"седан\" либо \"хэтчбек\"); \n",
    "2) `doors` - кол-во дверей (целое число);\n",
    "3) `volume` - объем двигателя (целое число);\n",
    "4) `power` - мощность в лошадиных силах (целое число);\n",
    "5) `release_year` - год выпуска (первая из чиселок, которые записаны в графе выпуск);\n",
    "6) `name` - название из графы \"Марка и модификация\".\n",
    "Это все можно сделать при помощи BeautifulSoap.\n",
    "\n",
    "Соединяем с нашим датасетом\n",
    "\n",
    "Отлично! Мы достали необходимые данные, теперь осталось соединить это с нашим датасетом. У нас в изначальном датасете есть поле `year_to_start`, которое означает год, в котором начали проводить замеры для данной машины. Было бы странно, если модель, которую мы пытаемся заматчить была выпущена после того, как ей начали пользоваться в рамках какого-то замера. Поэтому пусть у нас есть список всех модификаций, которые потенциально подходят под нашу машину (у них год `release_year <= year_to_start`).\n",
    "\n",
    "Вот пример подходящих модификация для `car_id=T81007701m` (у которой `year_to_start=2015` и ссылка на модель:  http://www.autonet.ru/auto/ttx/audi/a3):"
   ]
  },
  {
   "cell_type": "markdown",
   "id": "a59ef8ea-1d6c-4d5c-912a-101be76c7485",
   "metadata": {},
   "source": [
    "<center> <img src='./images/image_v42.png' width=\"450\" >"
   ]
  },
  {
   "cell_type": "markdown",
   "id": "0077b3ee-cf9b-4186-ad65-a1cfc017cd67",
   "metadata": {},
   "source": [
    "Теперь отсортируйте получившийся датасет по следующим полям:\n",
    "\n",
    "`df = df.sort_values(by=['name', 'release_year', 'carcass', 'doors', 'volume', 'power'])` и возьмите первую запись в качестве ответа для данной машины. Получившийся датасет загрузите в качестве решения в систему (не изменяйте порядок строк в изначальном датасете).\n",
    "\n",
    "Пример результата:"
   ]
  },
  {
   "cell_type": "markdown",
   "id": "4dbcd969-0ea9-4256-b4b6-9efb940b21c4",
   "metadata": {},
   "source": [
    "<center> <img src='./images/image_v43.png' width=\"450\" >"
   ]
  },
  {
   "cell_type": "markdown",
   "id": "36c343f3-2f63-40b8-91cc-3a4389687ac2",
   "metadata": {},
   "source": [
    "**Примечание:** Убедитесь, что name и carcass не содержат лишних пробелов вначале и в конце.\n",
    "\n"
   ]
  },
  {
   "cell_type": "code",
   "execution_count": null,
   "id": "b3ca0d1e-56d3-413b-96a3-8e7970e1a9bf",
   "metadata": {},
   "outputs": [],
   "source": []
  }
 ],
 "metadata": {
  "kernelspec": {
   "display_name": "Python 3 (ipykernel)",
   "language": "python",
   "name": "python3"
  },
  "language_info": {
   "codemirror_mode": {
    "name": "ipython",
    "version": 3
   },
   "file_extension": ".py",
   "mimetype": "text/x-python",
   "name": "python",
   "nbconvert_exporter": "python",
   "pygments_lexer": "ipython3",
   "version": "3.10.13"
  }
 },
 "nbformat": 4,
 "nbformat_minor": 5
}
