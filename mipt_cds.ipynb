{
 "cells": [
  {
   "cell_type": "markdown",
   "metadata": {},
   "source": [
    "## <center> 🌍 План ноутбука"
   ]
  },
  {
   "cell_type": "markdown",
   "metadata": {},
   "source": [
    "<img src=\"images/goose_intro.png\" align=\"right\" width=\"400\">\n",
    "\n",
    "0. [🚗 Описание задачи и знакомство с данными.](#part0)\n",
    "1. [⚙️ Генерация и фильтрация признаков.](#part1)\n",
    "2. [🔮 Прогнозируем время и вид поломки машин - настраиваем ML модель.](#part2)\n",
    "3. [📊 Визуализация прогнозов, ошибок модели и важности признаков.](#part3)\n",
    "4. [🔄 Оптимизация. Тюнинг гиперпараметров с помощью `Optuna`.](#part4)\n",
    "5. [🤹‍♀️ Блендинг.](#part5)\n",
    "6. [🏆 Засылаем финальное решение на лидерборд на Kaggle.](#part6)"
   ]
  },
  {
   "cell_type": "code",
   "execution_count": 1,
   "metadata": {
    "tags": []
   },
   "outputs": [],
   "source": [
    "import pandas as pd\n",
    "import numpy as np\n",
    "import matplotlib.pyplot as plt\n",
    "import seaborn as sns"
   ]
  },
  {
   "cell_type": "markdown",
   "metadata": {},
   "source": [
    "## <center id=\"part0\"> 🚗 Описание задачи"
   ]
  },
  {
   "cell_type": "markdown",
   "metadata": {},
   "source": [
    "**Предыстория:**\n",
    "\n",
    "- Мы работаем с каршеринговой компанией, управляющей крупным автопарком машин.\n",
    "- Цель: предотвратить длительные периоды простоя машин из-за поломок через своевременное обслуживание и ремонт. \n",
    "\n",
    "**Идея для решения проблемы:**\n",
    "\n",
    "- Создание приоритезированного списка обхода машин. \n",
    "- Этот список поможет технической бригаде сосредоточиться на автомобилях, которые наиболее вероятно выйдут из строя в ближайшее время.\n",
    "\n",
    "**Как будем решать?:**\n",
    "\n",
    "- Компания собирает данные о поездках и состоянии машин до поломок. \n",
    "- Компания наняла Data Scientist'а, чтобы он смог использовать эти данные для анализа и прогнозирования характера поломок.\n",
    "\n",
    "**Важный момент**\n",
    "\n",
    "- Роль этого специалиста (Data Scientist) будешь играть ты! 😎"
   ]
  },
  {
   "cell_type": "markdown",
   "metadata": {},
   "source": [
    "## <center> 🔎 Знакомство с данными"
   ]
  },
  {
   "cell_type": "markdown",
   "metadata": {},
   "source": [
    "<center> <img src=\"images/data_tables_schem.JPG\" width=400>"
   ]
  },
  {
   "cell_type": "markdown",
   "metadata": {},
   "source": [
    "### Информация про машины с таргетом (основной датасет)"
   ]
  },
  {
   "cell_type": "code",
   "execution_count": 2,
   "metadata": {
    "tags": []
   },
   "outputs": [
    {
     "data": {
      "text/html": [
       "<div>\n",
       "<style scoped>\n",
       "    .dataframe tbody tr th:only-of-type {\n",
       "        vertical-align: middle;\n",
       "    }\n",
       "\n",
       "    .dataframe tbody tr th {\n",
       "        vertical-align: top;\n",
       "    }\n",
       "\n",
       "    .dataframe thead th {\n",
       "        text-align: right;\n",
       "    }\n",
       "</style>\n",
       "<table border=\"1\" class=\"dataframe\">\n",
       "  <thead>\n",
       "    <tr style=\"text-align: right;\">\n",
       "      <th></th>\n",
       "      <th>car_id</th>\n",
       "      <th>model</th>\n",
       "      <th>car_type</th>\n",
       "      <th>fuel_type</th>\n",
       "      <th>car_rating</th>\n",
       "      <th>year_to_start</th>\n",
       "      <th>riders</th>\n",
       "      <th>year_to_work</th>\n",
       "      <th>target_reg</th>\n",
       "      <th>target_class</th>\n",
       "    </tr>\n",
       "  </thead>\n",
       "  <tbody>\n",
       "    <tr>\n",
       "      <th>1695</th>\n",
       "      <td>x-1331305Z</td>\n",
       "      <td>Smart ForTwo</td>\n",
       "      <td>economy</td>\n",
       "      <td>petrol</td>\n",
       "      <td>5.64</td>\n",
       "      <td>2016</td>\n",
       "      <td>93710</td>\n",
       "      <td>2020</td>\n",
       "      <td>27.89</td>\n",
       "      <td>electro_bug</td>\n",
       "    </tr>\n",
       "    <tr>\n",
       "      <th>1773</th>\n",
       "      <td>A28143979P</td>\n",
       "      <td>Kia Rio</td>\n",
       "      <td>economy</td>\n",
       "      <td>petrol</td>\n",
       "      <td>4.52</td>\n",
       "      <td>2011</td>\n",
       "      <td>3558</td>\n",
       "      <td>2015</td>\n",
       "      <td>35.18</td>\n",
       "      <td>engine_fuel</td>\n",
       "    </tr>\n",
       "    <tr>\n",
       "      <th>462</th>\n",
       "      <td>P10296494R</td>\n",
       "      <td>Kia Rio</td>\n",
       "      <td>economy</td>\n",
       "      <td>petrol</td>\n",
       "      <td>3.96</td>\n",
       "      <td>2015</td>\n",
       "      <td>82558</td>\n",
       "      <td>2018</td>\n",
       "      <td>35.39</td>\n",
       "      <td>gear_stick</td>\n",
       "    </tr>\n",
       "    <tr>\n",
       "      <th>1803</th>\n",
       "      <td>H-3320077V</td>\n",
       "      <td>Kia Rio X</td>\n",
       "      <td>economy</td>\n",
       "      <td>petrol</td>\n",
       "      <td>5.50</td>\n",
       "      <td>2015</td>\n",
       "      <td>78615</td>\n",
       "      <td>2021</td>\n",
       "      <td>28.54</td>\n",
       "      <td>wheel_shake</td>\n",
       "    </tr>\n",
       "    <tr>\n",
       "      <th>1199</th>\n",
       "      <td>K-1436228o</td>\n",
       "      <td>Renault Sandero</td>\n",
       "      <td>standart</td>\n",
       "      <td>petrol</td>\n",
       "      <td>4.40</td>\n",
       "      <td>2012</td>\n",
       "      <td>25974</td>\n",
       "      <td>2015</td>\n",
       "      <td>44.63</td>\n",
       "      <td>engine_check</td>\n",
       "    </tr>\n",
       "  </tbody>\n",
       "</table>\n",
       "</div>"
      ],
      "text/plain": [
       "          car_id            model  car_type fuel_type  car_rating  \\\n",
       "1695  x-1331305Z     Smart ForTwo   economy    petrol        5.64   \n",
       "1773  A28143979P          Kia Rio   economy    petrol        4.52   \n",
       "462   P10296494R          Kia Rio   economy    petrol        3.96   \n",
       "1803  H-3320077V        Kia Rio X   economy    petrol        5.50   \n",
       "1199  K-1436228o  Renault Sandero  standart    petrol        4.40   \n",
       "\n",
       "      year_to_start  riders  year_to_work  target_reg  target_class  \n",
       "1695           2016   93710          2020       27.89   electro_bug  \n",
       "1773           2011    3558          2015       35.18   engine_fuel  \n",
       "462            2015   82558          2018       35.39    gear_stick  \n",
       "1803           2015   78615          2021       28.54   wheel_shake  \n",
       "1199           2012   25974          2015       44.63  engine_check  "
      ]
     },
     "execution_count": 2,
     "metadata": {},
     "output_type": "execute_result"
    }
   ],
   "source": [
    "car_train = pd.read_csv('https://raw.githubusercontent.com/a-milenkin/Competitive_Data_Science/main/data/car_train.csv')\n",
    "car_train.sample(5)"
   ]
  },
  {
   "cell_type": "markdown",
   "metadata": {},
   "source": [
    "- `car_id` — идентификатор машины\n",
    "- `model` / `car_type` / `fuel_type` — марка, класс и тип топлива машины\n",
    "- `car_rating` / `riders` — общий рейтинг и общее число поездок к концу 2021-го года\n",
    "- `year_to_start` / `year_to_work` — год выпуска машины и год начала работы в автопарке\n",
    "- `target_reg` — количество дней до поломки\n",
    "- `target_class` — класс поломки (всего 9 видов)."
   ]
  },
  {
   "cell_type": "markdown",
   "metadata": {},
   "source": [
    "### Информация про поездки"
   ]
  },
  {
   "cell_type": "code",
   "execution_count": 3,
   "metadata": {
    "tags": []
   },
   "outputs": [
    {
     "data": {
      "text/html": [
       "<div>\n",
       "<style scoped>\n",
       "    .dataframe tbody tr th:only-of-type {\n",
       "        vertical-align: middle;\n",
       "    }\n",
       "\n",
       "    .dataframe tbody tr th {\n",
       "        vertical-align: top;\n",
       "    }\n",
       "\n",
       "    .dataframe thead th {\n",
       "        text-align: right;\n",
       "    }\n",
       "</style>\n",
       "<table border=\"1\" class=\"dataframe\">\n",
       "  <thead>\n",
       "    <tr style=\"text-align: right;\">\n",
       "      <th></th>\n",
       "      <th>user_id</th>\n",
       "      <th>car_id</th>\n",
       "      <th>ride_id</th>\n",
       "      <th>ride_date</th>\n",
       "      <th>rating</th>\n",
       "      <th>ride_duration</th>\n",
       "      <th>ride_cost</th>\n",
       "      <th>speed_avg</th>\n",
       "      <th>speed_max</th>\n",
       "      <th>stop_times</th>\n",
       "      <th>distance</th>\n",
       "      <th>refueling</th>\n",
       "      <th>user_ride_quality</th>\n",
       "      <th>deviation_normal</th>\n",
       "    </tr>\n",
       "  </thead>\n",
       "  <tbody>\n",
       "    <tr>\n",
       "      <th>210422</th>\n",
       "      <td>x15902063M</td>\n",
       "      <td>O32025767k</td>\n",
       "      <td>O1d</td>\n",
       "      <td>2020-01-31</td>\n",
       "      <td>9.47</td>\n",
       "      <td>15</td>\n",
       "      <td>129</td>\n",
       "      <td>53</td>\n",
       "      <td>78.000000</td>\n",
       "      <td>0</td>\n",
       "      <td>299.054815</td>\n",
       "      <td>0</td>\n",
       "      <td>-3.068958</td>\n",
       "      <td>-0.001</td>\n",
       "    </tr>\n",
       "    <tr>\n",
       "      <th>97749</th>\n",
       "      <td>k58439660A</td>\n",
       "      <td>H-1610911B</td>\n",
       "      <td>b1l</td>\n",
       "      <td>2020-03-12</td>\n",
       "      <td>7.81</td>\n",
       "      <td>478</td>\n",
       "      <td>3816</td>\n",
       "      <td>35</td>\n",
       "      <td>49.000000</td>\n",
       "      <td>2</td>\n",
       "      <td>1751.920975</td>\n",
       "      <td>0</td>\n",
       "      <td>9.273790</td>\n",
       "      <td>-5.824</td>\n",
       "    </tr>\n",
       "    <tr>\n",
       "      <th>716224</th>\n",
       "      <td>V19121531Q</td>\n",
       "      <td>y-9963220p</td>\n",
       "      <td>z1f</td>\n",
       "      <td>2020-01-22</td>\n",
       "      <td>4.71</td>\n",
       "      <td>18</td>\n",
       "      <td>193</td>\n",
       "      <td>62</td>\n",
       "      <td>76.520023</td>\n",
       "      <td>0</td>\n",
       "      <td>1038.526125</td>\n",
       "      <td>0</td>\n",
       "      <td>-4.413516</td>\n",
       "      <td>-2.124</td>\n",
       "    </tr>\n",
       "    <tr>\n",
       "      <th>516409</th>\n",
       "      <td>y49261924f</td>\n",
       "      <td>k-8065294L</td>\n",
       "      <td>e1q</td>\n",
       "      <td>2020-03-20</td>\n",
       "      <td>5.37</td>\n",
       "      <td>30</td>\n",
       "      <td>1495</td>\n",
       "      <td>35</td>\n",
       "      <td>67.000000</td>\n",
       "      <td>2</td>\n",
       "      <td>167.853646</td>\n",
       "      <td>0</td>\n",
       "      <td>-21.907393</td>\n",
       "      <td>-5.864</td>\n",
       "    </tr>\n",
       "    <tr>\n",
       "      <th>73011</th>\n",
       "      <td>g15262071o</td>\n",
       "      <td>F-2033009p</td>\n",
       "      <td>M1l</td>\n",
       "      <td>2020-02-25</td>\n",
       "      <td>7.07</td>\n",
       "      <td>31</td>\n",
       "      <td>273</td>\n",
       "      <td>36</td>\n",
       "      <td>61.000000</td>\n",
       "      <td>1</td>\n",
       "      <td>116.341638</td>\n",
       "      <td>0</td>\n",
       "      <td>6.781712</td>\n",
       "      <td>-10.239</td>\n",
       "    </tr>\n",
       "  </tbody>\n",
       "</table>\n",
       "</div>"
      ],
      "text/plain": [
       "           user_id      car_id ride_id   ride_date  rating  ride_duration  \\\n",
       "210422  x15902063M  O32025767k     O1d  2020-01-31    9.47             15   \n",
       "97749   k58439660A  H-1610911B     b1l  2020-03-12    7.81            478   \n",
       "716224  V19121531Q  y-9963220p     z1f  2020-01-22    4.71             18   \n",
       "516409  y49261924f  k-8065294L     e1q  2020-03-20    5.37             30   \n",
       "73011   g15262071o  F-2033009p     M1l  2020-02-25    7.07             31   \n",
       "\n",
       "        ride_cost  speed_avg  speed_max  stop_times     distance  refueling  \\\n",
       "210422        129         53  78.000000           0   299.054815          0   \n",
       "97749        3816         35  49.000000           2  1751.920975          0   \n",
       "716224        193         62  76.520023           0  1038.526125          0   \n",
       "516409       1495         35  67.000000           2   167.853646          0   \n",
       "73011         273         36  61.000000           1   116.341638          0   \n",
       "\n",
       "        user_ride_quality  deviation_normal  \n",
       "210422          -3.068958            -0.001  \n",
       "97749            9.273790            -5.824  \n",
       "716224          -4.413516            -2.124  \n",
       "516409         -21.907393            -5.864  \n",
       "73011            6.781712           -10.239  "
      ]
     },
     "execution_count": 3,
     "metadata": {},
     "output_type": "execute_result"
    }
   ],
   "source": [
    "rides_info = pd.read_csv('https://raw.githubusercontent.com/a-milenkin/Competitive_Data_Science/main/data/rides_info.csv')\n",
    "rides_info.sample(5)"
   ]
  },
  {
   "cell_type": "markdown",
   "metadata": {},
   "source": [
    "- `user_id` / `car_id` / `ride_id` - идентификаторы водителя, машины, поездки соответственно\n",
    "- `ride_date` / `rating` - дата поездки и рейтинг, поставленный водителем\n",
    "- `ride_duration` / `distance` / `ride_cost` -  длительность (время),  пройденное расстояние, стоимость поездки\n",
    "- `speed_avg` / `speed_max` - средняя и максимальная скорости поездки соответственно\n",
    "- `stop_times` / `refueling` - количество остановок (паузы) и флаг - была ли дозаправка.\n",
    "- `user_ride_quality` - оценка манеры вождения водителя машины, определенная скоринговой ML системой сервиса.\n",
    "- `deviation_normal` - общий показатель датчиков о состоянии машины, относительно эталонных показателей (нормы)."
   ]
  },
  {
   "cell_type": "markdown",
   "metadata": {},
   "source": [
    "### Информация про водителей"
   ]
  },
  {
   "cell_type": "code",
   "execution_count": 4,
   "metadata": {
    "tags": []
   },
   "outputs": [
    {
     "data": {
      "text/html": [
       "<div>\n",
       "<style scoped>\n",
       "    .dataframe tbody tr th:only-of-type {\n",
       "        vertical-align: middle;\n",
       "    }\n",
       "\n",
       "    .dataframe tbody tr th {\n",
       "        vertical-align: top;\n",
       "    }\n",
       "\n",
       "    .dataframe thead th {\n",
       "        text-align: right;\n",
       "    }\n",
       "</style>\n",
       "<table border=\"1\" class=\"dataframe\">\n",
       "  <thead>\n",
       "    <tr style=\"text-align: right;\">\n",
       "      <th></th>\n",
       "      <th>age</th>\n",
       "      <th>user_rating</th>\n",
       "      <th>user_rides</th>\n",
       "      <th>user_time_accident</th>\n",
       "      <th>user_id</th>\n",
       "      <th>sex</th>\n",
       "      <th>first_ride_date</th>\n",
       "    </tr>\n",
       "  </thead>\n",
       "  <tbody>\n",
       "    <tr>\n",
       "      <th>12988</th>\n",
       "      <td>43</td>\n",
       "      <td>6.3</td>\n",
       "      <td>1605</td>\n",
       "      <td>5.0</td>\n",
       "      <td>r86713227m</td>\n",
       "      <td>0</td>\n",
       "      <td>2018-6-21</td>\n",
       "    </tr>\n",
       "    <tr>\n",
       "      <th>7535</th>\n",
       "      <td>47</td>\n",
       "      <td>8.6</td>\n",
       "      <td>539</td>\n",
       "      <td>3.0</td>\n",
       "      <td>s76353086q</td>\n",
       "      <td>0</td>\n",
       "      <td>2019-6-24</td>\n",
       "    </tr>\n",
       "    <tr>\n",
       "      <th>13132</th>\n",
       "      <td>35</td>\n",
       "      <td>8.6</td>\n",
       "      <td>958</td>\n",
       "      <td>NaN</td>\n",
       "      <td>J10780157w</td>\n",
       "      <td>0</td>\n",
       "      <td>2019-3-7</td>\n",
       "    </tr>\n",
       "    <tr>\n",
       "      <th>978</th>\n",
       "      <td>25</td>\n",
       "      <td>8.0</td>\n",
       "      <td>1660</td>\n",
       "      <td>6.0</td>\n",
       "      <td>T30905342H</td>\n",
       "      <td>1</td>\n",
       "      <td>2018-6-8</td>\n",
       "    </tr>\n",
       "    <tr>\n",
       "      <th>1690</th>\n",
       "      <td>42</td>\n",
       "      <td>7.5</td>\n",
       "      <td>979</td>\n",
       "      <td>7.0</td>\n",
       "      <td>B10894351E</td>\n",
       "      <td>0</td>\n",
       "      <td>2019-2-29</td>\n",
       "    </tr>\n",
       "  </tbody>\n",
       "</table>\n",
       "</div>"
      ],
      "text/plain": [
       "       age  user_rating  user_rides  user_time_accident     user_id  sex  \\\n",
       "12988   43          6.3        1605                 5.0  r86713227m    0   \n",
       "7535    47          8.6         539                 3.0  s76353086q    0   \n",
       "13132   35          8.6         958                 NaN  J10780157w    0   \n",
       "978     25          8.0        1660                 6.0  T30905342H    1   \n",
       "1690    42          7.5         979                 7.0  B10894351E    0   \n",
       "\n",
       "      first_ride_date  \n",
       "12988       2018-6-21  \n",
       "7535        2019-6-24  \n",
       "13132        2019-3-7  \n",
       "978          2018-6-8  \n",
       "1690        2019-2-29  "
      ]
     },
     "execution_count": 4,
     "metadata": {},
     "output_type": "execute_result"
    }
   ],
   "source": [
    "driver_info = pd.read_csv('https://raw.githubusercontent.com/a-milenkin/Competitive_Data_Science/main/data/driver_info.csv')\n",
    "driver_info.sample(5)"
   ]
  },
  {
   "cell_type": "markdown",
   "metadata": {},
   "source": [
    "- `user_id` / `age` / `sex` — идентификатор, возраст и пол водителя, соответственно\n",
    "- `user_rating` — общий рейтинг пользователя за все поездки к концу 2021-го года\n",
    "- `user_rides` — общее количество поездок к концу 2021-го года\n",
    "- `user_time_accident` — число инцидентов (это могли быть аварии/штрафы/эвакуация машины)  \n",
    "- `first_ride_date` — дата первой поездки."
   ]
  },
  {
   "cell_type": "markdown",
   "metadata": {},
   "source": [
    "### Информация про ремонт машин"
   ]
  },
  {
   "cell_type": "code",
   "execution_count": 5,
   "metadata": {
    "tags": []
   },
   "outputs": [
    {
     "data": {
      "text/html": [
       "<div>\n",
       "<style scoped>\n",
       "    .dataframe tbody tr th:only-of-type {\n",
       "        vertical-align: middle;\n",
       "    }\n",
       "\n",
       "    .dataframe tbody tr th {\n",
       "        vertical-align: top;\n",
       "    }\n",
       "\n",
       "    .dataframe thead th {\n",
       "        text-align: right;\n",
       "    }\n",
       "</style>\n",
       "<table border=\"1\" class=\"dataframe\">\n",
       "  <thead>\n",
       "    <tr style=\"text-align: right;\">\n",
       "      <th></th>\n",
       "      <th>car_id</th>\n",
       "      <th>worker_id</th>\n",
       "      <th>fix_date</th>\n",
       "      <th>work_type</th>\n",
       "      <th>destroy_degree</th>\n",
       "      <th>work_duration</th>\n",
       "    </tr>\n",
       "  </thead>\n",
       "  <tbody>\n",
       "    <tr>\n",
       "      <th>13162</th>\n",
       "      <td>R14058273F</td>\n",
       "      <td>RC</td>\n",
       "      <td>2019-11-25 6:50</td>\n",
       "      <td>reparking</td>\n",
       "      <td>1.0</td>\n",
       "      <td>25</td>\n",
       "    </tr>\n",
       "    <tr>\n",
       "      <th>55471</th>\n",
       "      <td>I-8201538D</td>\n",
       "      <td>EC</td>\n",
       "      <td>2020-10-29 15:53</td>\n",
       "      <td>repair</td>\n",
       "      <td>5.3</td>\n",
       "      <td>9</td>\n",
       "    </tr>\n",
       "    <tr>\n",
       "      <th>60973</th>\n",
       "      <td>w-9916167W</td>\n",
       "      <td>UW</td>\n",
       "      <td>2020-5-15 17:42</td>\n",
       "      <td>repair</td>\n",
       "      <td>5.5</td>\n",
       "      <td>13</td>\n",
       "    </tr>\n",
       "    <tr>\n",
       "      <th>139225</th>\n",
       "      <td>e13156563s</td>\n",
       "      <td>SM</td>\n",
       "      <td>2020-8-17 15:19</td>\n",
       "      <td>repair</td>\n",
       "      <td>5.3</td>\n",
       "      <td>8</td>\n",
       "    </tr>\n",
       "    <tr>\n",
       "      <th>125590</th>\n",
       "      <td>F-2122411I</td>\n",
       "      <td>MN</td>\n",
       "      <td>2019-6-6 15:17</td>\n",
       "      <td>reparking</td>\n",
       "      <td>1.0</td>\n",
       "      <td>34</td>\n",
       "    </tr>\n",
       "  </tbody>\n",
       "</table>\n",
       "</div>"
      ],
      "text/plain": [
       "            car_id worker_id          fix_date  work_type  destroy_degree  \\\n",
       "13162   R14058273F        RC   2019-11-25 6:50  reparking             1.0   \n",
       "55471   I-8201538D        EC  2020-10-29 15:53     repair             5.3   \n",
       "60973   w-9916167W        UW   2020-5-15 17:42     repair             5.5   \n",
       "139225  e13156563s        SM   2020-8-17 15:19     repair             5.3   \n",
       "125590  F-2122411I        MN    2019-6-6 15:17  reparking             1.0   \n",
       "\n",
       "        work_duration  \n",
       "13162              25  \n",
       "55471               9  \n",
       "60973              13  \n",
       "139225              8  \n",
       "125590             34  "
      ]
     },
     "execution_count": 5,
     "metadata": {},
     "output_type": "execute_result"
    }
   ],
   "source": [
    "fix_info = pd.read_csv('https://raw.githubusercontent.com/a-milenkin/Competitive_Data_Science/main/data/fix_info.csv')\n",
    "fix_info.sample(5)"
   ]
  },
  {
   "cell_type": "markdown",
   "metadata": {},
   "source": [
    "- `worker_id` / `car_id` — идентификатор работника и машины;\n",
    "- `work_type` / `work_duration` — тип и длительность (в часах) проводимой работы;\n",
    "- `destroy_degree` — степень износа/повреждённости машины в случае поломки;\n",
    "- `fix_date` — время начала ремонта (снятия машины с линии)."
   ]
  },
  {
   "cell_type": "markdown",
   "metadata": {},
   "source": [
    "## <center id=\"part1\">⚙️ 1. Генерация и фильтрация признаков."
   ]
  },
  {
   "cell_type": "markdown",
   "metadata": {},
   "source": [
    "<center> <img src=\"https://ucarecdn.com/bf4c772d-b67a-42ae-a48b-cfd83910b0a2/\" width=700>"
   ]
  },
  {
   "cell_type": "markdown",
   "metadata": {},
   "source": [
    "<div class=\"alert alert-info\">\n",
    "\n",
    "**Цель блока** - сгенерировать признаки из дополнительных датасетов и добавить их к основному датасету, произвести фильтрацию признаков."
   ]
  },
  {
   "cell_type": "markdown",
   "metadata": {},
   "source": [
    "    \n",
    "<center> <h3> Задание 1. Генерация признаков из дополнительных датасетов [6 баллов]</h3>"
   ]
  },
  {
   "cell_type": "markdown",
   "metadata": {},
   "source": [
    "<div class=\"alert alert-info\">\n",
    "\n",
    "1. Возьмите датасет `rides_info` с информацией о поездках и проведите группировку по каждой машине отдельно.\n",
    "\n",
    "2. Для каждой машины (то есть для каждого `car_id`) подсчитайте несколько признаков:\n",
    "   - Какой минимальный рейтинг за все поездки.\n",
    "   - Какой средний рейтинг за все поездки\n",
    "   - Сколько всего километров проехала.\n",
    "   - Какая была максимальная скорость.\n",
    "   - Сколько всего поездок сделала каждая машина.\n",
    "   - Добавьте еще минимум 3 признаки на свой выбор.\n",
    "\n",
    "3. Сделайте соединение таблиц, вспомнив про методы соединения и выбрав подходящий для нашего случая.\n",
    "\n",
    "4. Подключите информацию про водителей (`driver_info`) и про ремонт машин (`fix_info`).\n",
    "    - Добавьте минимум по 3 признака на свой выбор с каждого из датасетов  \n",
    "\n",
    "\n",
    "<h4> Критерии оценивания </h4>\n",
    "    \n",
    "- Были добавлены 5 обязательных и минимум 3 на свой выбор признака из датасета `rides_info` [2 балла]\n",
    "- Были добавлены минимум 3 признака на свой выбор из датасета `driver_info` [2 балла]\n",
    "- Были добавлены минимум 3 признака на свой выбор из датасета `fix_info` [2 балла]\n",
    "\n",
    "</div>"
   ]
  },
  {
   "cell_type": "markdown",
   "metadata": {},
   "source": [
    "<div class=\"alert alert-success\">\n",
    "    \n",
    "<h4> Несколько советов по Feature Engineering</h4>\n",
    "    \n",
    "- 🏁 Начинайте с сырых данных. \n",
    "- 🧩 Используйте все доступные данные. Покрывайте признаками всю имеющуюся информацию в данных.\n",
    "- 🧠 Формулируйте предположения: от чего зависит таргет? \n",
    "- 🤔 Смотрите визуально на классы/ошибки и делайте предположения. Какие полезны?\n",
    "- ⚠️ Помните, что слишком много признаков может быть вредно. Потом придется отфильтровывать.\n",
    "    \n",
    "<h4> Полезные ссылки </h4>\n",
    "    \n",
    "- [Ноутбук](https://github.com/a-milenkin/Competitive_Data_Science/blob/main/notebooks/3.2%20-%20Feature_Engineering.ipynb) про генерацию признаков\n",
    "- [Ноутбук](https://github.com/a-milenkin/Competitive_Data_Science/blob/main/notebooks/3.3%20-%20Feature%20Selection.ipynb) про фильтрацию признаков\n",
    "- [Большой и подробный гайд](http://www.feat.engineering/) (на английском)"
   ]
  },
  {
   "cell_type": "code",
   "execution_count": 7,
   "metadata": {},
   "outputs": [],
   "source": [
    "# Пример расчета одного признака\n",
    "rides_info.groupby('car_id', as_index=False).agg(\n",
    "    mean_rating = ('rating', 'mean'),\n",
    "    # ... еще признаки\n",
    ")\n",
    "\n",
    "df = pd.merge(...) # Соедините полученный датасет с фичами с основным датасетом\n",
    "\n",
    "# YOUR CODE HERE"
   ]
  },
  {
   "cell_type": "markdown",
   "metadata": {
    "tags": []
   },
   "source": [
    "Идеи для новых признаков. Подумайте, какие из них самые полезные?\n",
    "    \n",
    "* `feature_min_max_diff`: разница между максимальным и минимальным значениями `deviation_normal` для каждой машины\n",
    "* `feature_corner`: угол наклона по признаку `user_ride_quality` для каждой машины\n",
    "* `feature_mean`: среднее значение `deviation_normal` для каждой машины\n",
    "* `feature_shift`: точка перегиба/сдвига для `deviation_normal`\n",
    "* `feature_start`: значение точки старта для `deviation_normal`\n",
    "* `feature_nans`: сумма пропусков для столбца `...` для каждой машины \n",
    "* `feature_quant`: `X %` квантиль для столбца `...` для каждой машины"
   ]
  },
  {
   "cell_type": "code",
   "execution_count": 8,
   "metadata": {},
   "outputs": [],
   "source": [
    "# YOUR CODE HERE"
   ]
  },
  {
   "cell_type": "markdown",
   "metadata": {
    "tags": []
   },
   "source": [
    "### <center> 🧹 Нагенерировали? А теперь будем убирать!\n",
    "\n",
    "<center> <img src=\"https://ucarecdn.com/d1b4bc78-fd04-44fb-bdbf-0a63355b7384/\" width=700>"
   ]
  },
  {
   "cell_type": "markdown",
   "metadata": {},
   "source": [
    "<div class=\"alert alert-info\">\n",
    "\n",
    "<h3><center> Зачем вообще заниматься отбором признаков?</center></h3>\n",
    "    \n",
    "**Основные причины**:\n",
    "    \n",
    "1. Если фичей очень много, то данные могут перестать помещаться в память, может существенно увеличиться время обучения модели, тем более если мы захотим протестировать несколько разных алгоритмов или ансамбль. Особенно, в условиях ограничения платформ на длительность одной сессии (в Kaggle 12 часов) и лимиты по потребляемой памяти.\n",
    "2. Главная причина: с увеличением количества признаков часто падает точность предсказания модели. Особенно, если в данных большое количество мусорных фичей (почти не коррелирующих с таргетом). Некоторые алгоритмы при сильном увеличении числа признаков, вообще, перестают адекватно работать. И здравствуй, старый добрый оверфит!\n",
    "3. Даже если точность не снижается, есть риск, что ваша модель опирается на шумные фичи, что снизит стабильность прогноза на приватной выборке."
   ]
  },
  {
   "cell_type": "markdown",
   "metadata": {},
   "source": [
    "<h3> <center> Несколько советов по Feature Selection </center> </h3>\n",
    "    \n",
    "<b>Что можно удалить сразу?</b>\n",
    "    \n",
    "- Константы\n",
    "- Уникальные значения (в том числе в тесте, как правило это ID-шники по типу `car_id`)\n",
    "    \n",
    "<b>Какие методы использовать дальше?</b>\n",
    "    \n",
    "- `Линейная корреляция`\n",
    "- `Phik` - тоже корреляция, но на стероидах ([туториал на Medium](https://towardsdatascience.com/phik-k-get-familiar-with-the-latest-correlation-coefficient-9ba0032b37e7))\n",
    "- `Permutation importance` (из `scikit-learn`)\n",
    "- `SHAP values` (из библиотеки `shap`)\n",
    "- `CatBoost Feature Selection` (рекурсивные методы)\n",
    "    "
   ]
  },
  {
   "cell_type": "markdown",
   "metadata": {},
   "source": [
    "<center> <h3> Задание 2. Применение методов фильтрации признаков [4 балла]</h3>"
   ]
  },
  {
   "cell_type": "markdown",
   "metadata": {},
   "source": [
    "1. Выберите и примените любые 3 (можно и больше) метода фильтрации, которые указаны выше или в ноутбуке по фильтрации из полезных ссылок.\n",
    "2. Проинтерпертируйте результаты и сделайте выводы.\n",
    "\n",
    "\n",
    "<h4> Критерии оценивания </h4>\n",
    "    \n",
    "- Применены методы фильтрации [1 балл за каждый метод, максимум 3 балла].\n",
    "- Сделаны выводы на основе примененных методов [1 балл]\n",
    "</div>"
   ]
  },
  {
   "cell_type": "code",
   "execution_count": 9,
   "metadata": {},
   "outputs": [],
   "source": [
    "# YOUR CODE HERE"
   ]
  },
  {
   "cell_type": "markdown",
   "metadata": {},
   "source": [
    "## <center id=\"part2\"> 🔮 2. Прогнозируем время и вид поломки машин - настраиваем ML модель."
   ]
  },
  {
   "cell_type": "markdown",
   "metadata": {},
   "source": [
    "<div class=\"alert alert-info\">\n",
    "\n",
    "**Цель блока** - составить тренировочную и валидационную выборки, произвести обучение модели `CatBoostClassifier` на тренирочной части и оценить качество на валидационной."
   ]
  },
  {
   "cell_type": "markdown",
   "metadata": {},
   "source": [
    "<center> <h3> Задание 3. Обучение первой модели [5 баллов]</h3>"
   ]
  },
  {
   "cell_type": "markdown",
   "metadata": {},
   "source": [
    "1. Классифицируйте признаки на типы (категориальные, числовые, таргеты)\n",
    "\n",
    "2. Выделите в `X` только признаки, а в `y` таргет (для задачи классификации).\n",
    "\n",
    "3. Сделайте разделение данных на *обучающую* и *валидационную* выборки (не забывайте про воспроизводимость ваших результатов).\n",
    "\n",
    "4. Создайте и обучите `CatBoostClassifier` модель (настраивать гиперпараметры сейчас не обязательно).\n",
    "\n",
    "5. Проведите оценку вашей модели, используя метрику `accuracy`.\n",
    "\n",
    "\n",
    "<h4> Критерии оценивания </h4>\n",
    "    \n",
    "- По 1 баллу за каждый корректно выполненный пункт.\n",
    "\n",
    "</div>"
   ]
  },
  {
   "cell_type": "code",
   "execution_count": 10,
   "metadata": {},
   "outputs": [],
   "source": [
    "from catboost import CatBoostClassifier\n",
    "from sklearn.model_selection import train_test_split\n",
    "from sklearn.metrics import accuracy_score"
   ]
  },
  {
   "cell_type": "code",
   "execution_count": 11,
   "metadata": {},
   "outputs": [
    {
     "name": "stdout",
     "output_type": "stream",
     "text": [
      "Категориальные признаки: 1 [Ellipsis]\n",
      "Числовые признаки: 1 [Ellipsis]\n",
      "Целевые переменные [Ellipsis]\n"
     ]
    }
   ],
   "source": [
    "features2drop = [...] # то, что надо выбросить\n",
    "targets = [...] # таргеты\n",
    "cat_features = [...] # категориальные признаки\n",
    "\n",
    "num_features = [...] # числовые признаки\n",
    "\n",
    "print('Категориальные признаки:', len(cat_features), cat_features)\n",
    "print('Числовые признаки:', len(num_features), num_features)\n",
    "print('Целевые переменные', targets)"
   ]
  },
  {
   "cell_type": "code",
   "execution_count": 12,
   "metadata": {},
   "outputs": [],
   "source": [
    "# YOUR CODE HERE"
   ]
  },
  {
   "cell_type": "markdown",
   "metadata": {},
   "source": [
    "## <center id=\"part3\"> 📊 3. Визуализация прогнозов, ошибок модели и важности признаков."
   ]
  },
  {
   "cell_type": "markdown",
   "metadata": {},
   "source": [
    "<div class=\"alert alert-info\">\n",
    "\n",
    "**Цель блока** - визуализировать результаты прогнозирования, ошибки модели и важность признаков для лучшего понимания и анализа модели."
   ]
  },
  {
   "cell_type": "markdown",
   "metadata": {},
   "source": [
    "<center> <h3> Задание 4. Визуализация [5 баллов]</h3>"
   ]
  },
  {
   "cell_type": "markdown",
   "metadata": {},
   "source": [
    "   \n",
    "1. Визуализируйте важность признаков встроенным методом в `CatBoost` (помните, что не стоит сильно доверять этому рейтингу важности, т.к. для сильно скоррелированных признаков важность делится пополам и оба признака могут улететь вниз по важности).\n",
    "\n",
    "2. Постройте `waterfall_plot` из библиотеки `SHAP` (подробнее во втором ноутбуке из полезных ссылок ниже).\n",
    "    \n",
    "3. Постройте `classification_report` из библиотеки `scikit-learn`.\n",
    "\n",
    "4. Постройте и визуализируйте матрицу смежности (`confusion_matrix`), посмотрите в каких классах модель больше всего ошибается.\n",
    "    \n",
    "5. Для каждого графика/примененного метода проинтерпретируйте результаты и сделайте выводы.\n",
    "\n",
    "\n",
    "<h4> Критерии оценивания </h4>\n",
    "    \n",
    "- По 1 баллу за каждый корректно выполненный пункт.\n",
    "    \n",
    "</div>\n",
    "\n",
    "<div class=\"alert alert-success\">\n",
    "\n",
    "Визуализация может помочь даже после того, как мы **уже обучили** какую-нибудь модель. Например:\n",
    "\n",
    "- Понять, что мешает модели или чего не хватает, чтобы не допускать ошибки\n",
    "- Сделать выводы, как можно улучшить точность в последующих экспериментах.\n",
    "- Визуализировать ошибки модели\n",
    "- Отсеять лишние признаки\n",
    "- Найти идеи для новых признаков.\n",
    "- Все зависит от типа ваших данных\n",
    "\n",
    "<h3> Полезные ссылки </h3>\n",
    "    \n",
    "- [Ноутбук](https://github.com/a-milenkin/Competitive_Data_Science/blob/main/notebooks/2.3%20-%20Visualisation.ipynb) про визуализацию и `seaborn`.\n",
    "- [Ноутбук](https://github.com/a-milenkin/Competitive_Data_Science/blob/main/notebooks/3.4%20-%20Visualisation.ipynb) про продвинутую визуализацию и анализ ошибок модели\n",
    "</div>    "
   ]
  },
  {
   "cell_type": "code",
   "execution_count": 13,
   "metadata": {},
   "outputs": [],
   "source": [
    "# YOUR CODE HERE"
   ]
  },
  {
   "cell_type": "markdown",
   "metadata": {},
   "source": [
    "## <center id=\"part4\"> 🔄 4. Оптимизация. Тюнинг гиперпараметров с помощью `Optuna`"
   ]
  },
  {
   "cell_type": "markdown",
   "metadata": {},
   "source": [
    "<center>\n",
    "    <img src=\"images/goose_tuning.png\" width=\"500\">\n",
    "</center>"
   ]
  },
  {
   "cell_type": "markdown",
   "metadata": {
    "tags": []
   },
   "source": [
    "<div class=\"alert alert-info\">\n",
    "\n",
    "<h3>Ключевые особенности <code>Optuna</code>:</h3>\n",
    "\n",
    "- 🎯 Легковесность и универсальность - можно подбирать оптимальные параметры под любые функции и метрики\n",
    "- 🎁 SOTA алгоритмы, адаптированные для поиска гиперпараметров\n",
    "- ⏱ Параллелизация и различные методы прунинга\n",
    "- 📈 Встроенная визуализация\n",
    "- 🤝 Интеграция со множеством популярных библиотек (бустинги, sklearn, PyTorch, W&B и другие)\n",
    "\n",
    "Чтобы понять, как ее использовать, давайте разберем ее по частям.\n",
    "\n",
    "\n",
    "> [Ноутбук](https://github.com/a-milenkin/Competitive_Data_Science/blob/main/notebooks/5.3%20-%20Optuna.ipynb) по `Optuna`"
   ]
  },
  {
   "cell_type": "markdown",
   "metadata": {},
   "source": [
    "### В `Optuna` присутствуют 2 базовые сущности:\n",
    "\n",
    "<div class=\"alert alert-info\">\n",
    "\n",
    "<h4> <code>Study</code>: оптимизация, базирующаяся на <code>Objective</code> функции.</h4>\n",
    "\n",
    "В `Objective` функцию нужно написать код подсчета метрики, которую возвращаем. `Objective` вызывается Optun'ой много раз для подбора лучших параметров.\n",
    "```python\n",
    "def objective(trial, ...):\n",
    "    # calculate score...\n",
    "    return score\n",
    "```\n",
    "\n",
    "<h4> <code>Trial</code> - одно выполнение <code>Objective</code> функции.</h4>\n",
    "\n",
    "В `trial` обьекте мы передаем параметры для \"перебора\", используя для каждого типа свой метод. К примеру\n",
    "\n",
    "```python\n",
    "# метод `suggest_float` показывает, что перебираем `float` значения, от 0 и до 1.5 границы.\n",
    "param = trial.suggest_float('param', 0, 1.5) \n",
    "\n",
    "# Категориальное значение\n",
    "loss_function = trial.suggest_categorical('loss', ['Logloss', 'CrossEntropy'])\n",
    "\n",
    "# Целочисленное значение\n",
    "depth = trial.suggest_int('depth', 5, 8)\n",
    "\n",
    "# Равномерное распределение\n",
    "learning_rate = trial.suggest_uniform('learning_rate', 0.0, 1.0)\n",
    "```"
   ]
  },
  {
   "cell_type": "markdown",
   "metadata": {},
   "source": [
    "### Study parameters\n",
    "\n",
    "<div class=\"alert alert-info\">\n",
    "\n",
    "Инициализируем обьект `study`, который начнет перебор и сохранит в себе историю результатов.\n",
    "Если мы стараемся увеличить метрику, а не уменьшить ошибку, то используем `create_study(direction='maximize')` \n",
    "```python\n",
    "study = optuna.create_study()\n",
    "study.optimize(objective, n_trials=10)\n",
    "```"
   ]
  },
  {
   "cell_type": "markdown",
   "metadata": {},
   "source": [
    "<div class=\"alert alert-info\">\n",
    "    \n",
    "В [`Optuna`](https://optuna.readthedocs.io/en/stable/index.html) реализовано несколько методов (`sampler`) подбора параметров (в том числе классические):\n",
    "* `GridSampler`\n",
    "* `RandomSampler`\n",
    "* `Tree-Structed Parzen Estimator` (`TPESampler` - самый популярный - дефолтный)\n",
    "* `BruteForceSampler`\n",
    "* И ещё [4 других](https://optuna.readthedocs.io/en/stable/reference/samplers/index.html#module-optuna.samplers), также можно написать собственный сэмплер."
   ]
  },
  {
   "cell_type": "markdown",
   "metadata": {
    "tags": []
   },
   "source": [
    "<div class=\"alert alert-info\">\n",
    "\n",
    "<h3> 🌀 Советы по перебору параметров (очень логичные). </h3>\n",
    "    \n",
    "- Иметь понимание важности параметров\n",
    "- Число `iterations` лучше взять с запасом и зафиксировать, при этом ограничив через `early_stopping_rounds`\n",
    "- Подсмотреть/чувствовать диапазоны и шаг значений\n",
    "- Исключить то, что перебирать не нужно. (`random_seed` , `eval_metric`, `thread_count` и прочее)\n",
    "- Используйте информацию с прошлых попыток"
   ]
  },
  {
   "cell_type": "markdown",
   "metadata": {},
   "source": [
    "<div class=\"alert alert-info\">\n",
    "\n",
    "**Цель блока** - улучшить качество предсказания, произведя подбор гиперпараметров для модели с помощью `Optuna`"
   ]
  },
  {
   "cell_type": "markdown",
   "metadata": {},
   "source": [
    "<center> <h3> Задание 5. Подбор гиперпараметров [3 балла]</h3>"
   ]
  },
  {
   "cell_type": "markdown",
   "metadata": {},
   "source": [
    "1. Напишите `objective` функцию и запустите `Optuna`.\n",
    "2. Подберите гиперпараметры для `CatBoostClassifier` (минимум 3 гиперпараметра).\n",
    "3. Обучите модель с новыми гиперпараметрами, сравните качество и сделайте выводы.\n",
    "\n",
    "    \n",
    "<h4> Критерии оценивания </h4>\n",
    "    \n",
    "- По 1 баллу за каждый корректно выполненный пункт.\n",
    "    \n",
    "</div>"
   ]
  },
  {
   "cell_type": "code",
   "execution_count": 14,
   "metadata": {},
   "outputs": [],
   "source": [
    "# YOUR CODE HERE"
   ]
  },
  {
   "cell_type": "markdown",
   "metadata": {},
   "source": [
    "## <center id=\"part5\"> 🤹‍♀️ 5. Блендинг"
   ]
  },
  {
   "cell_type": "markdown",
   "metadata": {},
   "source": [
    "> Одна голова хорошо, а `n` голов всё же лучше\n",
    "\n",
    "Если на этапе построения первой модели (когда мы выбрали `CatBoost`) вы задались вопросом \"А почему он, а не ~~я~~ `LightGBM` или `XGBoost` (или даже более простые модели)?\", то сейчас вы можете построить всё, что пожелаете. А дальше, мы построим ансамбль этих моделей - **блендинг**. \n",
    "\n",
    "Самый простой способ сделать **блендинг** — это усреднить предсказания или взвесить ответы.\n",
    "\n",
    "    \n",
    "<center>\n",
    "    <img src=\"images/goose_blending.png\" width=\"500\">\n",
    "</center>\n",
    "\n",
    "\n",
    "<div class=\"alert alert-success\">\n",
    "    \n",
    "<h3> Зачем нужен блендинг? </h3>\n",
    "    \n",
    "* Основная идея блендинга - взять от каждого алгоритма лучшее и совместить несколько разных ML моделей в одну. \n",
    "* За счет такого объединения увеличивается обобщающая способность финальной модели и качество улучшается.\n",
    "* Помимо этого, ваша модель становится более стабильной, что позволяет не слететь на приватном лидерборде.\n",
    "* Особенно хорошо накидывает блендинг, если смешиваемые **модели имеют разную природу**: например, нейронные сети, KNN и решающие деревья, в этом случае они выучивают разные зависимости и хорошо дополняют друг друга.\n",
    "    \n",
    "<h3> Полезные ссылки </h3>\n",
    "    \n",
    "- [Ноутбук](https://github.com/a-milenkin/Competitive_Data_Science/blob/main/notebooks/6.1%20-%20Blending.ipynb) по блендингу\n",
    "- [Ноутбук](https://github.com/a-milenkin/Competitive_Data_Science/blob/main/notebooks/4.1%20-%20CatBoost.ipynb) по `CatBoost`\n",
    "- [Ноутбук](https://github.com/a-milenkin/Competitive_Data_Science/blob/main/notebooks/4.2%20-%20LightGBM.ipynb) по `LightGBM`\n",
    "- [Ноутбук](https://github.com/a-milenkin/Competitive_Data_Science/blob/main/notebooks/4.3%20-%20XGBoost.ipynb) по `XGBoost`\n",
    "\n",
    "</div>"
   ]
  },
  {
   "cell_type": "markdown",
   "metadata": {},
   "source": [
    "<div class=\"alert alert-info\">\n",
    "\n",
    "**Цель блока** - улучшить качество предсказания, объединив несколько моделей вместе методом блендинга."
   ]
  },
  {
   "cell_type": "markdown",
   "metadata": {},
   "source": [
    "<center ><h3> Задание 7. Блендинг [10 баллов]</h3>"
   ]
  },
  {
   "cell_type": "markdown",
   "metadata": {},
   "source": [
    "1. Построить и обучить модели\n",
    "    - `CatBoostClassifier`\n",
    "    - `LightGBMClassifier (goss)`\n",
    "    - `XGBoostClassifier (dart)`\n",
    "    - `RandomForestClassifier`\n",
    "2. Сделать предсказания каждой моделью, оценить качество.\n",
    "3. Реализовать блендинг двумя способами, оценить качество и сравнить с предыдущим пунктом\n",
    "    - `Hard Voting` - метод, при котором мы делаем голосование всех моделей и выбираем самый популярный класс.\n",
    "    - `Soft Voting` - метод, при котором мы складываем вероятности предсказания всех моделей по каждому классу и потом выбираем самый класс с максимальной суммой.\n",
    "    \n",
    "<h4> Критерии оценивания </h4>\n",
    "    \n",
    "- По 1 баллу за каждую обученную модель [4 балла]\n",
    "- По 0.5 балла, если для модели проводился подбор гиперпараметров [2 балла]\n",
    "- Сделаны предсказания каждой модели и оценено качество [1 балл]\n",
    "- Реализован `Hard Voting` [1 балл]\n",
    "- Реализован `Soft Voting` [1 балл]\n",
    "- Сделаны выводы [1 балл]    \n",
    "    \n",
    "</div>"
   ]
  },
  {
   "cell_type": "code",
   "execution_count": 15,
   "metadata": {},
   "outputs": [],
   "source": [
    "# YOUR CODE HERE"
   ]
  },
  {
   "cell_type": "markdown",
   "metadata": {},
   "source": [
    "## <center id=\"part6\"> 🏆 6. Засылаем финальное решение на лидерборд на Kaggle"
   ]
  },
  {
   "cell_type": "markdown",
   "metadata": {},
   "source": [
    "<div class=\"alert alert-info\">\n",
    "\n",
    "**Цель блока** - сделать предсказание с помощью блендинга для тестовой части датасета, отправить результат в [соревнование на Kaggle](https://www.kaggle.com/competitions/competative-data-science-course-by-data-feeling/overview)."
   ]
  },
  {
   "cell_type": "markdown",
   "metadata": {},
   "source": [
    "<center> <h3> Задание 8. Предсказание на тестовом датасете и отправка на Kaggle</h3>"
   ]
  },
  {
   "cell_type": "markdown",
   "metadata": {},
   "source": [
    "1. Сделать предобработку для тестового датасета, присоединить к нему информацию из других датасетов и добавить признаки, которые генерировали для тренировочного датасета.\n",
    "2. Сделать предсказания каждой моделью (которые хотите включить в ансамбль, но минимум их должно быть 3)\n",
    "3. Сделать блендинг (с помощью `Hard Voting` или `Soft Voting` на ваш выбор)\n",
    "4. Сохранить результат предсказания в `csv` файл и отправить решение на Kaggle.\n",
    "    \n",
    "<h4> Критерии оценивания </h4>\n",
    "    \n",
    "- 0 баллов за задание, если итоговый скор на лидерборде меньше, чем `0.9`\n",
    "- По 1 баллу за каждый выполненный пункт\n",
    "\n",
    "</div>"
   ]
  },
  {
   "cell_type": "code",
   "execution_count": 20,
   "metadata": {},
   "outputs": [
    {
     "data": {
      "text/html": [
       "<div>\n",
       "<style scoped>\n",
       "    .dataframe tbody tr th:only-of-type {\n",
       "        vertical-align: middle;\n",
       "    }\n",
       "\n",
       "    .dataframe tbody tr th {\n",
       "        vertical-align: top;\n",
       "    }\n",
       "\n",
       "    .dataframe thead th {\n",
       "        text-align: right;\n",
       "    }\n",
       "</style>\n",
       "<table border=\"1\" class=\"dataframe\">\n",
       "  <thead>\n",
       "    <tr style=\"text-align: right;\">\n",
       "      <th></th>\n",
       "      <th>car_id</th>\n",
       "      <th>model</th>\n",
       "      <th>car_type</th>\n",
       "      <th>fuel_type</th>\n",
       "      <th>car_rating</th>\n",
       "      <th>year_to_start</th>\n",
       "      <th>riders</th>\n",
       "      <th>year_to_work</th>\n",
       "    </tr>\n",
       "  </thead>\n",
       "  <tbody>\n",
       "    <tr>\n",
       "      <th>0</th>\n",
       "      <td>P17494612l</td>\n",
       "      <td>Skoda Rapid</td>\n",
       "      <td>economy</td>\n",
       "      <td>petrol</td>\n",
       "      <td>4.80</td>\n",
       "      <td>2013</td>\n",
       "      <td>42269</td>\n",
       "      <td>2019</td>\n",
       "    </tr>\n",
       "    <tr>\n",
       "      <th>1</th>\n",
       "      <td>N-1530212S</td>\n",
       "      <td>Renault Sandero</td>\n",
       "      <td>standart</td>\n",
       "      <td>petrol</td>\n",
       "      <td>4.32</td>\n",
       "      <td>2015</td>\n",
       "      <td>90014</td>\n",
       "      <td>2016</td>\n",
       "    </tr>\n",
       "    <tr>\n",
       "      <th>2</th>\n",
       "      <td>B-1154399t</td>\n",
       "      <td>Smart ForTwo</td>\n",
       "      <td>economy</td>\n",
       "      <td>petrol</td>\n",
       "      <td>4.46</td>\n",
       "      <td>2015</td>\n",
       "      <td>82684</td>\n",
       "      <td>2017</td>\n",
       "    </tr>\n",
       "  </tbody>\n",
       "</table>\n",
       "</div>"
      ],
      "text/plain": [
       "       car_id            model  car_type fuel_type  car_rating  year_to_start  \\\n",
       "0  P17494612l      Skoda Rapid   economy    petrol        4.80           2013   \n",
       "1  N-1530212S  Renault Sandero  standart    petrol        4.32           2015   \n",
       "2  B-1154399t     Smart ForTwo   economy    petrol        4.46           2015   \n",
       "\n",
       "   riders  year_to_work  \n",
       "0   42269          2019  \n",
       "1   90014          2016  \n",
       "2   82684          2017  "
      ]
     },
     "execution_count": 20,
     "metadata": {},
     "output_type": "execute_result"
    }
   ],
   "source": [
    "car_test = pd.read_csv('https://raw.githubusercontent.com/a-milenkin/Competitive_Data_Science/main/data/car_test.csv')\n",
    "car_test.head(3)"
   ]
  },
  {
   "cell_type": "code",
   "execution_count": 17,
   "metadata": {},
   "outputs": [],
   "source": [
    "# YOUR CODE HERE"
   ]
  },
  {
   "cell_type": "markdown",
   "metadata": {},
   "source": [
    "Если пишите код на `Kaggle`, то для отправки решения:\n",
    "\n",
    "- Нажимаем `Save Version`\n",
    "- Проверяем, что в `Advanced Settings` выбрано - всегда сохранять результаты ноутбука.\n",
    "- Тип сохранения `Save & Run All (Commit)`\n",
    "- Жмем окончательно кнопку `Save`"
   ]
  },
  {
   "cell_type": "markdown",
   "metadata": {
    "tags": []
   },
   "source": [
    "<center>\n",
    "    <img src=\"images/goose_winner.png\" width=\"500\">\n",
    "</center>"
   ]
  },
  {
   "cell_type": "code",
   "execution_count": null,
   "metadata": {},
   "outputs": [],
   "source": []
  }
 ],
 "metadata": {
  "kernelspec": {
   "display_name": "Python 3 (ipykernel)",
   "language": "python",
   "name": "python3"
  },
  "language_info": {
   "codemirror_mode": {
    "name": "ipython",
    "version": 3
   },
   "file_extension": ".py",
   "mimetype": "text/x-python",
   "name": "python",
   "nbconvert_exporter": "python",
   "pygments_lexer": "ipython3",
   "version": "3.10.13"
  }
 },
 "nbformat": 4,
 "nbformat_minor": 4
}
