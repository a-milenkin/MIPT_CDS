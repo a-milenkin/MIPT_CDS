{
 "cells": [
  {
   "cell_type": "markdown",
   "metadata": {},
   "source": [
    "## <center> 🌍 План"
   ]
  },
  {
   "cell_type": "markdown",
   "metadata": {},
   "source": [
    "<img src=\"images/goose_intro.png\" align=\"right\" width=\"400\">\n",
    "\n",
    "0. [🚗 Описание задачи и знакомство с данными.](#part0)\n",
    "1. [⚙️ Генерация и фильтрация признаков.](#part1)\n",
    "2. [🔮 Прогнозируем время и вид поломки машин - настраиваем ML модель.](#part2)\n",
    "3. [📊 Визуализация прогнозов, ошибок модели и важности признаков.](#part3)\n",
    "4. [🔄 Оптимизация. Тюнинг гиперпараметров с помощью `Optuna`.](#part4)\n",
    "5. [🤹‍♀️ 5. Блендинг.](#part5)\n",
    "6. [🏆 6. Засылаем финальное решение на лидерборд на Kaggle.](#part6)"
   ]
  },
  {
   "cell_type": "markdown",
   "metadata": {},
   "source": [
    "## <center id=\"part0\"> 🚗 Описание задачи"
   ]
  },
  {
   "cell_type": "markdown",
   "metadata": {},
   "source": [
    "**Предыстория:**\n",
    "\n",
    "- Мы работаем с каршеринговой компанией, управляющей крупным автопарком машин.\n",
    "- Цель: предотвратить длительные периоды простоя машин из-за поломок через своевременное обслуживание и ремонт. \n",
    "\n",
    "**Идея для решения проблемы:**\n",
    "\n",
    "- Создание приоритезированного списка обхода машин. \n",
    "- Этот список поможет технической бригаде сосредоточиться на автомобилях, которые наиболее вероятно выйдут из строя в ближайшее время.\n",
    "\n",
    "**Как будем решать?:**\n",
    "\n",
    "- Компания собирает данные о поездках и состоянии машин до поломок. \n",
    "- Компания наняла Data Scientist'а, чтобы он смог использовать эти данные для анализа и прогнозирования характера поломок.\n",
    "\n",
    "**Важный момент**\n",
    "\n",
    "- Роль этого специалиста (Data Scientist) будешь играть ты! 😎"
   ]
  },
  {
   "cell_type": "markdown",
   "metadata": {},
   "source": [
    "## <center> 🔎 Знакомство с данными"
   ]
  },
  {
   "cell_type": "code",
   "execution_count": 3,
   "metadata": {},
   "outputs": [],
   "source": [
    "import pandas as pd\n",
    "import numpy as np\n",
    "import matplotlib.pyplot as plt\n",
    "import seaborn as sns"
   ]
  },
  {
   "cell_type": "markdown",
   "metadata": {},
   "source": [
    "### Информация про машины с таргетом (основной датасет)"
   ]
  },
  {
   "cell_type": "code",
   "execution_count": 4,
   "metadata": {},
   "outputs": [
    {
     "data": {
      "text/html": [
       "<div>\n",
       "<style scoped>\n",
       "    .dataframe tbody tr th:only-of-type {\n",
       "        vertical-align: middle;\n",
       "    }\n",
       "\n",
       "    .dataframe tbody tr th {\n",
       "        vertical-align: top;\n",
       "    }\n",
       "\n",
       "    .dataframe thead th {\n",
       "        text-align: right;\n",
       "    }\n",
       "</style>\n",
       "<table border=\"1\" class=\"dataframe\">\n",
       "  <thead>\n",
       "    <tr style=\"text-align: right;\">\n",
       "      <th></th>\n",
       "      <th>car_id</th>\n",
       "      <th>model</th>\n",
       "      <th>car_type</th>\n",
       "      <th>fuel_type</th>\n",
       "      <th>car_rating</th>\n",
       "      <th>year_to_start</th>\n",
       "      <th>riders</th>\n",
       "      <th>year_to_work</th>\n",
       "      <th>target_reg</th>\n",
       "      <th>target_class</th>\n",
       "    </tr>\n",
       "  </thead>\n",
       "  <tbody>\n",
       "    <tr>\n",
       "      <th>0</th>\n",
       "      <td>y13744087j</td>\n",
       "      <td>Kia Rio X-line</td>\n",
       "      <td>economy</td>\n",
       "      <td>petrol</td>\n",
       "      <td>3.78</td>\n",
       "      <td>2015</td>\n",
       "      <td>76163</td>\n",
       "      <td>2021</td>\n",
       "      <td>108.53</td>\n",
       "      <td>another_bug</td>\n",
       "    </tr>\n",
       "    <tr>\n",
       "      <th>1</th>\n",
       "      <td>O41613818T</td>\n",
       "      <td>VW Polo VI</td>\n",
       "      <td>economy</td>\n",
       "      <td>petrol</td>\n",
       "      <td>3.90</td>\n",
       "      <td>2015</td>\n",
       "      <td>78218</td>\n",
       "      <td>2021</td>\n",
       "      <td>35.20</td>\n",
       "      <td>electro_bug</td>\n",
       "    </tr>\n",
       "    <tr>\n",
       "      <th>2</th>\n",
       "      <td>d-2109686j</td>\n",
       "      <td>Renault Sandero</td>\n",
       "      <td>standart</td>\n",
       "      <td>petrol</td>\n",
       "      <td>6.30</td>\n",
       "      <td>2012</td>\n",
       "      <td>23340</td>\n",
       "      <td>2017</td>\n",
       "      <td>38.62</td>\n",
       "      <td>gear_stick</td>\n",
       "    </tr>\n",
       "    <tr>\n",
       "      <th>3</th>\n",
       "      <td>u29695600e</td>\n",
       "      <td>Mercedes-Benz GLC</td>\n",
       "      <td>business</td>\n",
       "      <td>petrol</td>\n",
       "      <td>4.04</td>\n",
       "      <td>2011</td>\n",
       "      <td>1263</td>\n",
       "      <td>2020</td>\n",
       "      <td>30.34</td>\n",
       "      <td>engine_fuel</td>\n",
       "    </tr>\n",
       "    <tr>\n",
       "      <th>4</th>\n",
       "      <td>N-8915870N</td>\n",
       "      <td>Renault Sandero</td>\n",
       "      <td>standart</td>\n",
       "      <td>petrol</td>\n",
       "      <td>4.70</td>\n",
       "      <td>2012</td>\n",
       "      <td>26428</td>\n",
       "      <td>2017</td>\n",
       "      <td>30.45</td>\n",
       "      <td>engine_fuel</td>\n",
       "    </tr>\n",
       "  </tbody>\n",
       "</table>\n",
       "</div>"
      ],
      "text/plain": [
       "       car_id              model  car_type fuel_type  car_rating  \\\n",
       "0  y13744087j     Kia Rio X-line   economy    petrol        3.78   \n",
       "1  O41613818T         VW Polo VI   economy    petrol        3.90   \n",
       "2  d-2109686j    Renault Sandero  standart    petrol        6.30   \n",
       "3  u29695600e  Mercedes-Benz GLC  business    petrol        4.04   \n",
       "4  N-8915870N    Renault Sandero  standart    petrol        4.70   \n",
       "\n",
       "   year_to_start  riders  year_to_work  target_reg target_class  \n",
       "0           2015   76163          2021      108.53  another_bug  \n",
       "1           2015   78218          2021       35.20  electro_bug  \n",
       "2           2012   23340          2017       38.62   gear_stick  \n",
       "3           2011    1263          2020       30.34  engine_fuel  \n",
       "4           2012   26428          2017       30.45  engine_fuel  "
      ]
     },
     "execution_count": 4,
     "metadata": {},
     "output_type": "execute_result"
    }
   ],
   "source": [
    "car_train = pd.read_csv('https://raw.githubusercontent.com/a-milenkin/Competitive_Data_Science/main/data/car_train.csv')\n",
    "car_train.head()"
   ]
  },
  {
   "cell_type": "markdown",
   "metadata": {},
   "source": [
    "- `car_id` — идентификатор машины\n",
    "- `model` / `car_type` / `fuel_type` — марка, класс и тип топлива машины\n",
    "- `car_rating` / `riders` — общий рейтинг и общее число поездок к концу 2021-го года\n",
    "- `year_to_start` / `year_to_work` — год выпуска машины и год начала работы в автопарке\n",
    "- `target_reg` — количество дней до поломки\n",
    "- `target_class` — класс поломки (всего 9 видов)."
   ]
  },
  {
   "cell_type": "markdown",
   "metadata": {},
   "source": [
    "### Информация про поездки"
   ]
  },
  {
   "cell_type": "code",
   "execution_count": 5,
   "metadata": {},
   "outputs": [
    {
     "data": {
      "text/html": [
       "<div>\n",
       "<style scoped>\n",
       "    .dataframe tbody tr th:only-of-type {\n",
       "        vertical-align: middle;\n",
       "    }\n",
       "\n",
       "    .dataframe tbody tr th {\n",
       "        vertical-align: top;\n",
       "    }\n",
       "\n",
       "    .dataframe thead th {\n",
       "        text-align: right;\n",
       "    }\n",
       "</style>\n",
       "<table border=\"1\" class=\"dataframe\">\n",
       "  <thead>\n",
       "    <tr style=\"text-align: right;\">\n",
       "      <th></th>\n",
       "      <th>user_id</th>\n",
       "      <th>car_id</th>\n",
       "      <th>ride_id</th>\n",
       "      <th>ride_date</th>\n",
       "      <th>rating</th>\n",
       "      <th>ride_duration</th>\n",
       "      <th>ride_cost</th>\n",
       "      <th>speed_avg</th>\n",
       "      <th>speed_max</th>\n",
       "      <th>stop_times</th>\n",
       "      <th>distance</th>\n",
       "      <th>refueling</th>\n",
       "      <th>user_ride_quality</th>\n",
       "      <th>deviation_normal</th>\n",
       "    </tr>\n",
       "  </thead>\n",
       "  <tbody>\n",
       "    <tr>\n",
       "      <th>0</th>\n",
       "      <td>o52317055h</td>\n",
       "      <td>A-1049127W</td>\n",
       "      <td>b1v</td>\n",
       "      <td>2020-01-01</td>\n",
       "      <td>4.95</td>\n",
       "      <td>21</td>\n",
       "      <td>268</td>\n",
       "      <td>36</td>\n",
       "      <td>113.548538</td>\n",
       "      <td>0</td>\n",
       "      <td>514.246920</td>\n",
       "      <td>0</td>\n",
       "      <td>1.115260</td>\n",
       "      <td>2.909</td>\n",
       "    </tr>\n",
       "    <tr>\n",
       "      <th>1</th>\n",
       "      <td>H41298704y</td>\n",
       "      <td>A-1049127W</td>\n",
       "      <td>T1U</td>\n",
       "      <td>2020-01-01</td>\n",
       "      <td>6.91</td>\n",
       "      <td>8</td>\n",
       "      <td>59</td>\n",
       "      <td>36</td>\n",
       "      <td>93.000000</td>\n",
       "      <td>1</td>\n",
       "      <td>197.520662</td>\n",
       "      <td>0</td>\n",
       "      <td>1.650465</td>\n",
       "      <td>4.133</td>\n",
       "    </tr>\n",
       "    <tr>\n",
       "      <th>2</th>\n",
       "      <td>v88009926E</td>\n",
       "      <td>A-1049127W</td>\n",
       "      <td>g1p</td>\n",
       "      <td>2020-01-02</td>\n",
       "      <td>6.01</td>\n",
       "      <td>20</td>\n",
       "      <td>315</td>\n",
       "      <td>61</td>\n",
       "      <td>81.959675</td>\n",
       "      <td>0</td>\n",
       "      <td>1276.328206</td>\n",
       "      <td>0</td>\n",
       "      <td>2.599112</td>\n",
       "      <td>2.461</td>\n",
       "    </tr>\n",
       "    <tr>\n",
       "      <th>3</th>\n",
       "      <td>t14229455i</td>\n",
       "      <td>A-1049127W</td>\n",
       "      <td>S1c</td>\n",
       "      <td>2020-01-02</td>\n",
       "      <td>0.26</td>\n",
       "      <td>19</td>\n",
       "      <td>205</td>\n",
       "      <td>32</td>\n",
       "      <td>128.000000</td>\n",
       "      <td>0</td>\n",
       "      <td>535.680831</td>\n",
       "      <td>0</td>\n",
       "      <td>3.216255</td>\n",
       "      <td>0.909</td>\n",
       "    </tr>\n",
       "    <tr>\n",
       "      <th>4</th>\n",
       "      <td>W17067612E</td>\n",
       "      <td>A-1049127W</td>\n",
       "      <td>X1b</td>\n",
       "      <td>2020-01-03</td>\n",
       "      <td>1.21</td>\n",
       "      <td>56</td>\n",
       "      <td>554</td>\n",
       "      <td>38</td>\n",
       "      <td>90.000000</td>\n",
       "      <td>1</td>\n",
       "      <td>1729.143367</td>\n",
       "      <td>0</td>\n",
       "      <td>2.716550</td>\n",
       "      <td>-1.822</td>\n",
       "    </tr>\n",
       "  </tbody>\n",
       "</table>\n",
       "</div>"
      ],
      "text/plain": [
       "      user_id      car_id ride_id   ride_date  rating  ride_duration  \\\n",
       "0  o52317055h  A-1049127W     b1v  2020-01-01    4.95             21   \n",
       "1  H41298704y  A-1049127W     T1U  2020-01-01    6.91              8   \n",
       "2  v88009926E  A-1049127W     g1p  2020-01-02    6.01             20   \n",
       "3  t14229455i  A-1049127W     S1c  2020-01-02    0.26             19   \n",
       "4  W17067612E  A-1049127W     X1b  2020-01-03    1.21             56   \n",
       "\n",
       "   ride_cost  speed_avg   speed_max  stop_times     distance  refueling  \\\n",
       "0        268         36  113.548538           0   514.246920          0   \n",
       "1         59         36   93.000000           1   197.520662          0   \n",
       "2        315         61   81.959675           0  1276.328206          0   \n",
       "3        205         32  128.000000           0   535.680831          0   \n",
       "4        554         38   90.000000           1  1729.143367          0   \n",
       "\n",
       "   user_ride_quality  deviation_normal  \n",
       "0           1.115260             2.909  \n",
       "1           1.650465             4.133  \n",
       "2           2.599112             2.461  \n",
       "3           3.216255             0.909  \n",
       "4           2.716550            -1.822  "
      ]
     },
     "execution_count": 5,
     "metadata": {},
     "output_type": "execute_result"
    }
   ],
   "source": [
    "rides_info = pd.read_csv('https://raw.githubusercontent.com/a-milenkin/Competitive_Data_Science/main/data/rides_info.csv')\n",
    "rides_info.head()"
   ]
  },
  {
   "cell_type": "markdown",
   "metadata": {},
   "source": [
    "- `user_id` / `car_id` / `ride_id` - идентификаторы водителя, машины, поездки соответственно\n",
    "- `ride_date` / `rating` - дата поездки и рейтинг, поставленный водителем\n",
    "- `ride_duration` / `distance` / `ride_cost` -  длительность (время),  пройденное расстояние, стоимость поездки\n",
    "- `speed_avg` / `speed_max` - средняя и максимальная скорости поездки соответственно\n",
    "- `stop_times` / `refueling` - количество остановок (паузы) и флаг - была ли дозаправка.\n",
    "- `user_ride_quality` - оценка манеры вождения водителя машины, определенная скоринговой ML системой сервиса.\n",
    "- `deviation_normal` - общий показатель датчиков о состоянии машины, относительно эталонных показателей (нормы)."
   ]
  },
  {
   "cell_type": "markdown",
   "metadata": {},
   "source": [
    "## <center id=\"part1\">⚙️ 1. Генерация и фильтрация признаков."
   ]
  },
  {
   "cell_type": "markdown",
   "metadata": {},
   "source": [
    "<center> <img src=\"https://ucarecdn.com/bf4c772d-b67a-42ae-a48b-cfd83910b0a2/\" width=700>"
   ]
  },
  {
   "cell_type": "markdown",
   "metadata": {},
   "source": [
    "<div class=\"alert alert-success\">\n",
    "    \n",
    "<h3> Полезные ссылки </h3>\n",
    "    \n",
    "- [Ноутбук](https://github.com/a-milenkin/Competitive_Data_Science/blob/main/notebooks/3.2%20-%20Feature_Engineering.ipynb) про генерацию признаков\n",
    "\n",
    "- [Ноутбук](https://github.com/a-milenkin/Competitive_Data_Science/blob/main/notebooks/3.3%20-%20Feature%20Selection.ipynb) про фильтрацию признаков\n",
    "\n",
    "- [Большой и подробный гайд](http://www.feat.engineering/) (на английском)"
   ]
  },
  {
   "cell_type": "markdown",
   "metadata": {},
   "source": [
    "### Несколько советов по `Feature Engineering`\n",
    "    \n",
    "<div class=\"alert alert-info\">\n",
    "    \n",
    "- 🏁 Начинайте с сырых данных. \n",
    "- 🧩 Используйте все доступные данные. Покрывайте признаками всю имеющуюся информацию в данных.\n",
    "- 🧠 Формулируйте предположения: от чего зависит таргет? \n",
    "- 🤔 Смотрите визуально на классы/ошибки и делайте предположения. Какие полезны?\n",
    "- ⚠️ Помните, что слишком много признаков может быть вредно. Потом придется отфильтровывать. "
   ]
  },
  {
   "cell_type": "markdown",
   "metadata": {},
   "source": [
    "Теперь, полученные данные нам необходимо склеить вместе для наших машинных обучений. Ведь ML модели умеют работать только с одним датасетом за раз. Но у нас тут небольшой казус - в `car_train` все машины уникальны, а в `rides_info` для каждой машины указано множество поездок на ней. Ну что ж, давайте разберемся, как с этим справиться.\n",
    "\n",
    "Вот что мы сделаем:\n",
    "\n",
    "1. **Группировка данных**: Сначала возьмем датасет `rides_info` с информацией о поездках и сгруппируем данные по каждой машине отдельно.\n",
    "\n",
    "2. **Считаем разные фичи**: Для каждой машины (то есть для каждого `car_id`) мы подсчитаем несколько интересных моментов:\n",
    "   - Какой минимальный и средний рейтинг за все поездки.\n",
    "   - Сколько всего километров проехала.\n",
    "   - Какая была максимальная скорость.\n",
    "   - Сколько всего поездок сделала каждая машина.\n",
    "   - И добавьте еще минимум 3 фичи по своему вкусу.\n",
    "\n",
    "3. **Соединим два датасета**: Вспомните про методы соединения таблиц и подумайте о том, какой применить в нашем случае\n",
    "\n",
    "\n",
    "Пример расчета одной фичи\n",
    "```python\n",
    "   rides_info.groupby('car_id', as_index=False).agg(\n",
    "       mean_rating = ('rating', 'mean'),\n",
    "       # ... еще фичи\n",
    "   )\n",
    "\n",
    "    df = pd.merge(...) # Соедините полученный датасет с фичами с основным датасетом\n",
    "```\n",
    "\n",
    "Результат этого шага запишите в переменную `df`"
   ]
  },
  {
   "cell_type": "code",
   "execution_count": null,
   "metadata": {},
   "outputs": [],
   "source": [
    "# YOUR CODE HERE"
   ]
  },
  {
   "cell_type": "markdown",
   "metadata": {},
   "source": [
    "\n",
    "<h3> Дополнительные наборы данных для анализа. Вы можете использовать их, чтобы собрать больше признаков и улучшить качество модели</h3>\n",
    "\n",
    "\n",
    "<h4> Информация про водителей (<code>driver_info</code>)</h4>\n",
    "\n",
    "- `user_id` / `age` / `sex` — идентификатор, возраст и пол водителя, соответственно\n",
    "- `user_rating` — общий рейтинг пользователя за все поездки к концу 2021-го года\n",
    "- `user_rides` — общее количество поездок к концу 2021-го года\n",
    "- `user_time_accident` — число инцидентов (это могли быть аварии/штрафы/эвакуация машины)  \n",
    "- `first_ride_date` — дата первой поездки.\n",
    "\n",
    "<h4> Информация про ремонт машин (<code>fix_info</code>)</h4>\n",
    "\n",
    "- `worker_id` / `car_id` — идентификатор работника и машины;\n",
    "- `work_type` / `work_duration` — тип и длительность (в часах) проводимой работы;\n",
    "- `destroy_degree` — степень износа/повреждённости машины в случае поломки;\n",
    "- `fix_date` — время начала ремонта (снятия машины с линии).\n",
    "\n"
   ]
  },
  {
   "cell_type": "markdown",
   "metadata": {},
   "source": [
    "<center> <img src=\"images/data_tables_schem.JPG\" width=500>"
   ]
  },
  {
   "cell_type": "code",
   "execution_count": null,
   "metadata": {},
   "outputs": [],
   "source": [
    "driver_info = pd.read_csv('https://raw.githubusercontent.com/a-milenkin/Competitive_Data_Science/main/data/driver_info.csv')\n",
    "fix_info = pd.read_csv('https://raw.githubusercontent.com/a-milenkin/Competitive_Data_Science/main/data/fix_info.csv')"
   ]
  },
  {
   "cell_type": "code",
   "execution_count": null,
   "metadata": {},
   "outputs": [],
   "source": [
    "# YOUR CODE HERE"
   ]
  },
  {
   "cell_type": "markdown",
   "metadata": {
    "tags": []
   },
   "source": [
    "<div class=\"alert alert-info\">\n",
    "\n",
    "Попробуйте сгенерировать некоторые из этих признаков или придумайте свои. Подумайте, какие из них самые полезные?\n",
    "    \n",
    "* `feature_min_max_diff`: разница между максимальным и минимальным значениями `deviation_normal` для каждой машины\n",
    "* `feature_corner`: угол наклона по признаку `user_ride_quality` для каждой машины\n",
    "* `feature_mean`: среднее значение `deviation_normal` для каждой машины\n",
    "* `feature_shift`: точка перегиба/сдвига для `deviation_normal`\n",
    "* `feature_start`: значение точки старта для `deviation_normal`\n",
    "* `feature_nans`: сумма пропусков для столбца `...` для каждой машины \n",
    "* `feature_quant`: `X %` квантиль для столбца `...` для каждой машины "
   ]
  },
  {
   "cell_type": "code",
   "execution_count": null,
   "metadata": {},
   "outputs": [],
   "source": [
    "# YOUR CODE HERE"
   ]
  },
  {
   "cell_type": "markdown",
   "metadata": {
    "tags": []
   },
   "source": [
    "### <center> 🧹 Нагенерировали? А теперь будем убирать!\n",
    "\n",
    "<center> <img src=\"https://ucarecdn.com/d1b4bc78-fd04-44fb-bdbf-0a63355b7384/\" width=700>"
   ]
  },
  {
   "cell_type": "markdown",
   "metadata": {},
   "source": [
    "<div class=\"alert alert-info\">\n",
    "\n",
    "<center> <b>Зачем вообще заниматься отбором признаков?</b> </center>\n",
    "    \n",
    "Основных причин несколько:\n",
    "1. Если фичей очень много, то данные могут перестать помещаться в память, может существенно увеличиться время обучения модели, тем более если мы захотим протестировать несколько разных алгоритмов или ансамбль. Особенно, в условиях ограничения платформ на длительность одной сессии (в Kaggle 12 часов) и лимиты по потребляемой памяти.\n",
    "2. Главная причина: с увеличением количества признаков часто падает точность предсказания модели. Особенно, если в данных большое количество мусорных фичей (почти не коррелирующих с таргетом). Некоторые алгоритмы при сильном увеличении числа признаков, вообще, перестают адекватно работать. И здравствуй, старый добрый оверфит!\n",
    "3. Даже если точность не снижается, есть риск, что ваша модель опирается на шумные фичи, что снизит стабильность прогноза на приватной выборке.\n",
    "</div>"
   ]
  },
  {
   "cell_type": "markdown",
   "metadata": {},
   "source": [
    "### Несколько советов по `Feature Selection`\n",
    "    \n",
    "<div class=\"alert alert-info\">\n",
    "<b>Что можно удалить сразу?</b>\n",
    "    \n",
    "- Константы\n",
    "- Уникальные значения (в том числе в тесте, как правило это ID-шники по типу `car_id`)\n",
    "    \n",
    "<b>Какие методы использовать дальше?</b>\n",
    "- `Линейная корреляция`\n",
    "- `Phik` - тоже корреляция, но на стероидах ([туториал на Medium](https://towardsdatascience.com/phik-k-get-familiar-with-the-latest-correlation-coefficient-9ba0032b37e7))\n",
    "- `Permutation importance` (из `scikit-learn`)\n",
    "- `SHAP values` (из библиотеки `shap`)\n",
    "- `CatBoost Feature Selection` (рекурсивные методы)\n",
    "</div>"
   ]
  },
  {
   "cell_type": "markdown",
   "metadata": {},
   "source": [
    "Попробуйте применить несколько методов и сделать выводы на их основе"
   ]
  },
  {
   "cell_type": "code",
   "execution_count": null,
   "metadata": {},
   "outputs": [],
   "source": [
    "# YOUR CODE HERE"
   ]
  },
  {
   "cell_type": "markdown",
   "metadata": {},
   "source": [
    "## <center id=\"part2\"> 🔮 2. Прогнозируем время и вид поломки машин - настраиваем ML модель."
   ]
  },
  {
   "cell_type": "markdown",
   "metadata": {},
   "source": [
    "Для начала классифицируем признаки на типы"
   ]
  },
  {
   "cell_type": "code",
   "execution_count": null,
   "metadata": {},
   "outputs": [],
   "source": [
    "features2drop = [...] # то, что надо выбросить\n",
    "targets = [...] # таргеты\n",
    "cat_features = [...] # категориальные признаки\n",
    "\n",
    "num_features = [...] # числовые признаки\n",
    "\n",
    "print('Категориальные признаки:', len(cat_features), cat_features)\n",
    "print('Числовые признаки:', len(num_features), num_features)\n",
    "print('Целевые переменные', targets)"
   ]
  },
  {
   "cell_type": "markdown",
   "metadata": {},
   "source": [
    "Начнем с библиотеки [CatBoost](https://catboost.ai/en/docs/) (быстрее всего заводится, меньше неочевидных моментов, высокая точность с дефолтными параметрами) для построения модели классификации. Вам нужно будет выполнить следующие шаги:\n",
    "\n",
    "1. Выделите в `X` только признаки, а в `y` таргет (для задачи классификации)\n",
    "\n",
    "2. Сделайте разделение данных на *обучающую* и *валидационную* выборки (не забывайте про воспроизводимость ваших результатов)\n",
    "\n",
    "3. Создайте и обучите `CatBoostClassifier` модель (настраивать гиперпараметры сейчас не обязательно)\n",
    "\n",
    "4. Проведите оценку вашей модели, используя метрику `accuracy`"
   ]
  },
  {
   "cell_type": "code",
   "execution_count": null,
   "metadata": {},
   "outputs": [],
   "source": [
    "from catboost import CatBoostClassifier\n",
    "from sklearn.model_selection import train_test_split\n",
    "from sklearn.metrics import accuracy_score"
   ]
  },
  {
   "cell_type": "code",
   "execution_count": null,
   "metadata": {},
   "outputs": [],
   "source": [
    "# YOUR CODE HERE"
   ]
  },
  {
   "cell_type": "markdown",
   "metadata": {},
   "source": [
    "## <center id=\"part3\"> 📊 3. Визуализация прогнозов, ошибок модели и важности признаков."
   ]
  },
  {
   "cell_type": "markdown",
   "metadata": {},
   "source": [
    "<div class=\"alert alert-success\">\n",
    "    \n",
    "<h3> Полезные ссылки </h3>\n",
    "    \n",
    "- [Ноутбук](https://github.com/a-milenkin/Competitive_Data_Science/blob/main/notebooks/2.3%20-%20Visualisation.ipynb) про визуализацию и `seaborn`.\n",
    "\n",
    "- [Ноутбук](https://github.com/a-milenkin/Competitive_Data_Science/blob/main/notebooks/3.4%20-%20Visualisation.ipynb) про продвинутую визуализацию и анализ ошибок модели"
   ]
  },
  {
   "cell_type": "markdown",
   "metadata": {},
   "source": [
    "<div class=\"alert alert-info\">\n",
    "\n",
    "Визуализация может помочь даже после того, как мы **уже обучили** какую-нибудь модель. Например:\n",
    "\n",
    "- Понять, что мешает модели или чего не хватает, чтобы не допускать ошибки\n",
    "- Сделать выводы, как можно улучшить точность в последующих экспериментах.\n",
    "- Визуализировать ошибки модели\n",
    "- Отсеять лишние признаки\n",
    "- Найти идеи для новых признаков.\n",
    "- Все зависит от типа ваших данных\n",
    "\n"
   ]
  },
  {
   "cell_type": "markdown",
   "metadata": {},
   "source": [
    "Визуализируйте важность фичей для `CatBoost` (но помните, что не стоит сильно доверять этому рейтингу важности, т.к. для сильно скоррелированных признаков важность делится пополам и оба признака могут улететь вниз по важности)\n"
   ]
  },
  {
   "cell_type": "code",
   "execution_count": null,
   "metadata": {},
   "outputs": [],
   "source": [
    "# YOUR CODE HERE"
   ]
  },
  {
   "cell_type": "markdown",
   "metadata": {},
   "source": [
    "`classification_report` и `confusion_matrix`. Построим сразу все метрики и посмотрим в каких классах модель больше всего ошибается с помощью матрицы смежности."
   ]
  },
  {
   "cell_type": "code",
   "execution_count": null,
   "metadata": {},
   "outputs": [],
   "source": [
    "# YOUR CODE HERE"
   ]
  },
  {
   "cell_type": "markdown",
   "metadata": {},
   "source": [
    "## <center id=\"part4\"> 🔄 4. Оптимизация. Тюнинг гиперпараметров с помощью `Optuna`"
   ]
  },
  {
   "cell_type": "markdown",
   "metadata": {},
   "source": [
    "<center>\n",
    "    <img src=\"images/goose_tuning.png\" width=\"500\">\n",
    "</center>"
   ]
  },
  {
   "cell_type": "markdown",
   "metadata": {
    "tags": []
   },
   "source": [
    "<div class=\"alert alert-info\">\n",
    "\n",
    "<h3>Ключевые особенности <code>Optuna</code>:</h3>\n",
    "\n",
    "- 🎯 Легковесность и универсальность - можно подбирать оптимальные параметры под любые функции и метрики\n",
    "- 🎁 SOTA алгоритмы, адаптированные для поиска гиперпараметров\n",
    "- ⏱ Параллелизация и различные методы прунинга\n",
    "- 📈 Встроенная визуализация\n",
    "- 🤝 Интеграция со множеством популярных библиотек (бустинги, sklearn, PyTorch, W&B и другие)\n",
    "\n",
    "Чтобы понять, как ее использовать, давайте разберем ее по частям.\n",
    "\n",
    "\n",
    "> [Ноутбук](https://github.com/a-milenkin/Competitive_Data_Science/blob/main/notebooks/5.3%20-%20Optuna.ipynb) по `Optuna`"
   ]
  },
  {
   "cell_type": "markdown",
   "metadata": {},
   "source": [
    "### В `Optuna` присутствуют 2 базовые сущности:\n",
    "\n",
    "<div class=\"alert alert-info\">\n",
    "\n",
    "<h4> <code>Study</code>: оптимизация, базирующаяся на <code>Objective</code> функции.</h4>\n",
    "\n",
    "В `Objective` функцию нужно написать код подсчета метрики, которую возвращаем. `Objective` вызывается Optun'ой много раз для подбора лучших параметров.\n",
    "```python\n",
    "def objective(trial, ...):\n",
    "    # calculate score...\n",
    "    return score\n",
    "```\n",
    "\n",
    "<h4> <code>Trial</code> - одно выполнение <code>Objective</code> функции.</h4>\n",
    "\n",
    "В `trial` обьекте мы передаем параметры для \"перебора\", используя для каждого типа свой метод. К примеру\n",
    "\n",
    "```python\n",
    "# метод `suggest_float` показывает, что перебираем `float` значения, от 0 и до 1.5 границы.\n",
    "param = trial.suggest_float('param', 0, 1.5) \n",
    "\n",
    "# Категориальное значение\n",
    "loss_function = trial.suggest_categorical('loss', ['Logloss', 'CrossEntropy'])\n",
    "\n",
    "# Целочисленное значение\n",
    "depth = trial.suggest_int('depth', 5, 8)\n",
    "\n",
    "# Равномерное распределение\n",
    "learning_rate = trial.suggest_uniform('learning_rate', 0.0, 1.0)\n",
    "```"
   ]
  },
  {
   "cell_type": "markdown",
   "metadata": {},
   "source": [
    "### Study parameters\n",
    "\n",
    "<div class=\"alert alert-info\">\n",
    "\n",
    "Инициализируем обьект `study`, который начнет перебор и сохранит в себе историю результатов.\n",
    "Если мы стараемся увеличить метрику, а не уменьшить ошибку, то используем `create_study(direction='maximize')` \n",
    "```python\n",
    "study = optuna.create_study()\n",
    "study.optimize(objective, n_trials=10)\n",
    "```"
   ]
  },
  {
   "cell_type": "markdown",
   "metadata": {},
   "source": [
    "<div class=\"alert alert-info\">\n",
    "    \n",
    "В [`Optuna`](https://optuna.readthedocs.io/en/stable/index.html) реализовано несколько методов (`sampler`) подбора параметров (в том числе классические):\n",
    "* `GridSampler`\n",
    "* `RandomSampler`\n",
    "* `Tree-Structed Parzen Estimator` (`TPESampler` - самый популярный - дефолтный)\n",
    "* `BruteForceSampler`\n",
    "* И ещё [4 других](https://optuna.readthedocs.io/en/stable/reference/samplers/index.html#module-optuna.samplers), также можно написать собственный сэмплер."
   ]
  },
  {
   "cell_type": "markdown",
   "metadata": {
    "tags": []
   },
   "source": [
    "<div class=\"alert alert-info\">\n",
    "\n",
    "<h3> 🌀 Советы по перебору параметров (очень логичные). </h3>\n",
    "    \n",
    "- Иметь понимание важности параметров\n",
    "- Число `iterations` лучше взять с запасом и зафиксировать, при этом ограничив через `early_stopping_rounds`\n",
    "- Подсмотреть/чувствовать диапазоны и шаг значений\n",
    "- Исключить то, что перебирать не нужно. (`random_seed` , `eval_metric`, `thread_count` и прочее)\n",
    "- Используйте информацию с прошлых попыток"
   ]
  },
  {
   "cell_type": "markdown",
   "metadata": {},
   "source": [
    "Напишите `objective` функцию и запустите `Optuna`, чтобы подобрать гиперпараметры для `CatBoostClassifier` "
   ]
  },
  {
   "cell_type": "code",
   "execution_count": null,
   "metadata": {},
   "outputs": [],
   "source": [
    "# YOUR CODE HERE"
   ]
  },
  {
   "cell_type": "markdown",
   "metadata": {},
   "source": [
    "Посмотрите на полученные параметры, запустите обучение модели с ними и проверьте, улучшилось ли качество"
   ]
  },
  {
   "cell_type": "code",
   "execution_count": 1,
   "metadata": {
    "tags": []
   },
   "outputs": [],
   "source": [
    "# YOUR CODE HERE"
   ]
  },
  {
   "cell_type": "markdown",
   "metadata": {},
   "source": [
    "## <center id=\"part5\"> 🤹‍♀️ 5. Блендинг"
   ]
  },
  {
   "cell_type": "markdown",
   "metadata": {},
   "source": [
    "> Одна голова хорошо, а `n` голов всё же лучше\n",
    "\n",
    "Если на этапе построения первой модели (когда мы выбрали `CatBoost`) вы задались вопросом \"А почему он, а не ~~я~~ `LightGBM` или `XGBoost` (или даже более простые модели)?\", то сейчас вы можете построить всё, что пожелаете. А дальше, мы построим ансамбль этих моделей - **блендинг**. \n",
    "\n",
    "Самый простой способ сделать **блендинг** — это усреднить предсказания или взвесить ответы.\n",
    "\n",
    "    \n",
    "<center>\n",
    "    <img src=\"images/goose_blending.png\" width=\"500\">\n",
    "</center>\n",
    "\n",
    "\n",
    "<div class=\"alert alert-success\">\n",
    "    \n",
    "<h3> Полезные ссылки </h3>\n",
    "    \n",
    "- [Ноутбук](https://github.com/a-milenkin/Competitive_Data_Science/blob/main/notebooks/6.1%20-%20Blending.ipynb) по блендингу\n",
    "- [Ноутбук](https://github.com/a-milenkin/Competitive_Data_Science/blob/main/notebooks/4.1%20-%20CatBoost.ipynb) по `CatBoost`\n",
    "- [Ноутбук](https://github.com/a-milenkin/Competitive_Data_Science/blob/main/notebooks/4.2%20-%20LightGBM.ipynb) по `LightGBM`\n",
    "- [Ноутбук](https://github.com/a-milenkin/Competitive_Data_Science/blob/main/notebooks/4.3%20-%20XGBoost.ipynb) по `XGBoost`\n",
    "\n",
    "</div>"
   ]
  },
  {
   "cell_type": "markdown",
   "metadata": {},
   "source": [
    "<div class=\"alert alert-info\">\n",
    "\n",
    "* Основная идея блендинга - взять от каждого алгоритма лучшее и совместить несколько разных ML моделей в одну. \n",
    "* За счет такого объединения увеличивается обобщающая способность финальной модели и качество улучшается.\n",
    "* Помимо этого, ваша модель становится более стабильной, что позволяет не слететь на приватном лидерборде.\n",
    "* Особенно хорошо накидывает блендинг, если смешиваемые **модели имеют разную природу**: например, нейронные сети, KNN и решающие деревья, в этом случае они выучивают разные зависимости и хорошо дополняют друг друга."
   ]
  },
  {
   "cell_type": "markdown",
   "metadata": {},
   "source": [
    "На этом этапе вам нужно построить:\n",
    "- `CatBoostClassifier`\n",
    "- `LightGBMClassifier (goss)`\n",
    "- `XGBoostClassifier (dart)`\n",
    "- `RandomForestClassifier`\n",
    "- (Дополнительно) любые модели по вашему желанию\n",
    "\n",
    "Используйте все методы и приемы, которые знаете, чтобы улучшить итоговый скор"
   ]
  },
  {
   "cell_type": "code",
   "execution_count": null,
   "metadata": {},
   "outputs": [],
   "source": [
    "# YOUR CODE HERE"
   ]
  },
  {
   "cell_type": "markdown",
   "metadata": {},
   "source": [
    "Сохраните предсказания в соответствующие переменные (создайте их еще при необходимости)"
   ]
  },
  {
   "cell_type": "code",
   "execution_count": null,
   "metadata": {},
   "outputs": [],
   "source": [
    "cb_pred = ...  # прогноз CatBoost\n",
    "lgb_pred = ...  # прогноз lightGBM\n",
    "xgb_pred = ...  # прогноз XgBoost\n",
    "rf_pred = ... # прогноз RandomForest"
   ]
  },
  {
   "cell_type": "markdown",
   "metadata": {},
   "source": [
    "Тогда, наконец, можно получить итоговое предсказание. Для задачи классификации есть два основных способа блендинга\n",
    "\n",
    "1. `Hard Voting` - метод, при котором мы делаем голосование всех моделей и выбираем самый популярный класс.\n",
    "2. `Soft Voting` - метод, при котором мы складываем вероятности предсказания всех моделей по каждому классу и потом выбираем самый класс с максимальной суммой.\n",
    "\n",
    "Реализуйте оба варианта и сравните результаты"
   ]
  },
  {
   "cell_type": "code",
   "execution_count": null,
   "metadata": {},
   "outputs": [],
   "source": [
    "# YOUR CODE HERE"
   ]
  },
  {
   "cell_type": "markdown",
   "metadata": {},
   "source": [
    "## <center id=\"part6\"> 🏆 6. Засылаем финальное решение на лидерборд на Kaggle"
   ]
  },
  {
   "cell_type": "markdown",
   "metadata": {},
   "source": [
    "Загрузим тестовый датасет и сделаем предсказание с помощью ансамбля моделей"
   ]
  },
  {
   "cell_type": "code",
   "execution_count": null,
   "metadata": {},
   "outputs": [],
   "source": [
    "car_test = pd.read_csv('https://raw.githubusercontent.com/a-milenkin/Competitive_Data_Science/main/data/car_test.csv')"
   ]
  },
  {
   "cell_type": "markdown",
   "metadata": {},
   "source": [
    "Не забудьте всю предобработку, присоединить к нему информацию из других датасетов и добавить признаки, которые генерировали для тренировочного датасета."
   ]
  },
  {
   "cell_type": "code",
   "execution_count": null,
   "metadata": {},
   "outputs": [],
   "source": [
    "# YOUR CODE HERE"
   ]
  },
  {
   "cell_type": "markdown",
   "metadata": {},
   "source": [
    "Сделаем итоговое предсказание ансамбля моделей"
   ]
  },
  {
   "cell_type": "code",
   "execution_count": null,
   "metadata": {},
   "outputs": [],
   "source": [
    "car_test['target_class'] = # YOUR CODE HERE"
   ]
  },
  {
   "cell_type": "markdown",
   "metadata": {},
   "source": [
    "Теперь, сохраните итоговое предсказание в `csv` файл со столбцами `car_id, target_class` и отправьте его в [соревнование на Kaggle](https://www.kaggle.com/competitions/competative-data-science-course-by-data-feeling/overview)."
   ]
  },
  {
   "cell_type": "code",
   "execution_count": null,
   "metadata": {},
   "outputs": [],
   "source": [
    "# YOUR CODE HERE"
   ]
  },
  {
   "cell_type": "markdown",
   "metadata": {},
   "source": [
    "Если пишите код на `Kaggle`, то для отправки решения:\n",
    "\n",
    "- Нажимаем `Save Version`\n",
    "- Проверяем, что в `Advanced Settings` выбрано - всегда сохранять результаты ноутбука.\n",
    "- Тип сохранения `Save & Run All (Commit)`\n",
    "- Жмем окончательно кнопку `Save`"
   ]
  },
  {
   "cell_type": "markdown",
   "metadata": {
    "tags": []
   },
   "source": [
    "<center>\n",
    "    <img src=\"images/goose_winner.png\" width=\"500\">\n",
    "</center>"
   ]
  }
 ],
 "metadata": {
  "kernelspec": {
   "display_name": "Python 3 (ipykernel)",
   "language": "python",
   "name": "python3"
  },
  "language_info": {
   "codemirror_mode": {
    "name": "ipython",
    "version": 3
   },
   "file_extension": ".py",
   "mimetype": "text/x-python",
   "name": "python",
   "nbconvert_exporter": "python",
   "pygments_lexer": "ipython3",
   "version": "3.9.18"
  }
 },
 "nbformat": 4,
 "nbformat_minor": 4
}
